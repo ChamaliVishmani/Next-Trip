{
 "cells": [
  {
   "cell_type": "code",
   "execution_count": 1,
   "id": "d1785035",
   "metadata": {},
   "outputs": [],
   "source": [
    "# Imports\n",
    "import pandas as pd\n",
    "from sklearn.model_selection import train_test_split\n",
    "from sklearn.ensemble import RandomForestRegressor\n",
    "from sklearn.metrics import mean_squared_error\n",
    "from datetime import datetime\n",
    "import joblib"
   ]
  },
  {
   "cell_type": "code",
   "execution_count": 7,
   "id": "b259c07d",
   "metadata": {},
   "outputs": [],
   "source": [
    "# Load the dataset\n",
    "data = pd.read_csv('/GitHub/uberDataApp/flask-backend/data/uber-raw-data-apr14.csv')"
   ]
  },
  {
   "cell_type": "code",
   "execution_count": 8,
   "id": "908dc200",
   "metadata": {},
   "outputs": [],
   "source": [
    "# Preprocess the data\n",
    "data['Date/Time'] = pd.to_datetime(data['Date/Time'])"
   ]
  },
  {
   "cell_type": "code",
   "execution_count": 9,
   "id": "8832dae6",
   "metadata": {},
   "outputs": [],
   "source": [
    "# Feature Engineering\n",
    "data['weekday'] = data['Date/Time'].dt.weekday\n",
    "data['hour'] = data['Date/Time'].dt.hour"
   ]
  },
  {
   "cell_type": "code",
   "execution_count": 10,
   "id": "1d1a9dfa",
   "metadata": {},
   "outputs": [],
   "source": [
    "# Split the data into features (X) and target variables (y)\n",
    "X = data[['weekday', 'hour']]\n",
    "y_lat = data['Lat']\n",
    "y_lon = data['Lon']"
   ]
  },
  {
   "cell_type": "code",
   "execution_count": 11,
   "id": "7e9d8eda",
   "metadata": {},
   "outputs": [],
   "source": [
    "# Split the data into training and testing sets\n",
    "X_train, X_test, y_lat_train, y_lat_test, y_lon_train, y_lon_test = train_test_split(X, y_lat, y_lon, test_size=0.2, random_state=42)"
   ]
  },
  {
   "cell_type": "code",
   "execution_count": 12,
   "id": "f0824c3e",
   "metadata": {},
   "outputs": [
    {
     "data": {
      "text/plain": [
       "RandomForestRegressor()"
      ]
     },
     "execution_count": 12,
     "metadata": {},
     "output_type": "execute_result"
    }
   ],
   "source": [
    "# Model Selection and Training\n",
    "model_lat = RandomForestRegressor()\n",
    "model_lat.fit(X_train, y_lat_train)\n",
    "\n",
    "model_lon = RandomForestRegressor()\n",
    "model_lon.fit(X_train, y_lon_train)"
   ]
  },
  {
   "cell_type": "code",
   "execution_count": 13,
   "id": "75a989b9",
   "metadata": {},
   "outputs": [
    {
     "name": "stdout",
     "output_type": "stream",
     "text": [
      "Latitude RMSE: 0.035843777987688175\n",
      "Longitude RMSE: 0.05092111350724933\n"
     ]
    }
   ],
   "source": [
    "# Model Evaluation\n",
    "y_lat_pred = model_lat.predict(X_test)\n",
    "y_lon_pred = model_lon.predict(X_test)\n",
    "\n",
    "mse_lat = mean_squared_error(y_lat_test, y_lat_pred)\n",
    "mse_lon = mean_squared_error(y_lon_test, y_lon_pred)\n",
    "\n",
    "rmse_lat = mean_squared_error(y_lat_test, y_lat_pred, squared=False)\n",
    "rmse_lon = mean_squared_error(y_lon_test, y_lon_pred, squared=False)\n",
    "\n",
    "print('Latitude RMSE:', rmse_lat)\n",
    "print('Longitude RMSE:', rmse_lon)"
   ]
  },
  {
   "cell_type": "code",
   "execution_count": 14,
   "id": "509355b7",
   "metadata": {},
   "outputs": [
    {
     "name": "stdout",
     "output_type": "stream",
     "text": [
      "Predicted Latitude: 40.736726821714186\n",
      "Predicted Longitude: -73.97932807375841\n"
     ]
    }
   ],
   "source": [
    "# Make Predictions\n",
    "new_datetime = datetime(2014, 4, 16, 1, 30)  # Example new date/time input\n",
    "new_weekday = new_datetime.weekday()\n",
    "new_hour = new_datetime.hour\n",
    "\n",
    "new_X = pd.DataFrame({'weekday': [new_weekday], 'hour': [new_hour]})\n",
    "predicted_lat = model_lat.predict(new_X)\n",
    "predicted_lon = model_lon.predict(new_X)\n",
    "\n",
    "print('Predicted Latitude:', predicted_lat[0])\n",
    "print('Predicted Longitude:', predicted_lon[0])"
   ]
  },
  {
   "cell_type": "code",
   "execution_count": 15,
   "id": "d5e10867",
   "metadata": {},
   "outputs": [
    {
     "data": {
      "text/plain": [
       "['/GitHub/uberDataApp/flask-backend/models/lon_model.pkl']"
      ]
     },
     "execution_count": 15,
     "metadata": {},
     "output_type": "execute_result"
    }
   ],
   "source": [
    "# Persist the model\n",
    "joblib.dump(model_lat, '/GitHub/uberDataApp/flask-backend/models/lat_model.pkl')\n",
    "joblib.dump(model_lon, '/GitHub/uberDataApp/flask-backend/models/lon_model.pkl')"
   ]
  },
  {
   "cell_type": "code",
   "execution_count": 17,
   "id": "994d8ea5",
   "metadata": {},
   "outputs": [
    {
     "data": {
      "text/plain": [
       "['/GitHub/uberDataApp/flask-backend/models/rnd_columns.pkl']"
      ]
     },
     "execution_count": 17,
     "metadata": {},
     "output_type": "execute_result"
    }
   ],
   "source": [
    "#Save model columns\n",
    "rnd_columns = list(X_train.columns)\n",
    "joblib.dump(rnd_columns, '/GitHub/uberDataApp/flask-backend/models/rnd_columns.pkl')"
   ]
  }
 ],
 "metadata": {
  "kernelspec": {
   "display_name": "Python 3 (ipykernel)",
   "language": "python",
   "name": "python3"
  },
  "language_info": {
   "codemirror_mode": {
    "name": "ipython",
    "version": 3
   },
   "file_extension": ".py",
   "mimetype": "text/x-python",
   "name": "python",
   "nbconvert_exporter": "python",
   "pygments_lexer": "ipython3",
   "version": "3.8.8"
  }
 },
 "nbformat": 4,
 "nbformat_minor": 5
}
