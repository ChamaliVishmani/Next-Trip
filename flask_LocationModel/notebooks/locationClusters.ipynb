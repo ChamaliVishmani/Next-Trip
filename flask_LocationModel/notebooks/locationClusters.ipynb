{
 "cells": [
  {
   "cell_type": "code",
   "execution_count": 1,
   "id": "d1785035",
   "metadata": {},
   "outputs": [],
   "source": [
    "# Imports\n",
    "import pymongo\n",
    "import pandas as pd\n",
    "import joblib"
   ]
  },
  {
   "cell_type": "code",
   "execution_count": 17,
   "metadata": {},
   "outputs": [],
   "source": [
    "from sklearn.cluster import KMeans\n",
    "from sklearn.ensemble import RandomForestRegressor\n",
    "from sklearn.metrics import mean_squared_error\n",
    "from sklearn.model_selection import train_test_split"
   ]
  },
  {
   "cell_type": "code",
   "execution_count": 3,
   "id": "fcaff0b8",
   "metadata": {},
   "outputs": [],
   "source": [
    "# import sys\n",
    "# sys.path.append('d:\\\\GitHub\\\\NextTrip\\\\flask_LocationModel\\\\config')"
   ]
  },
  {
   "cell_type": "code",
   "execution_count": 4,
   "id": "2d7579cd",
   "metadata": {},
   "outputs": [],
   "source": [
    "import re"
   ]
  },
  {
   "cell_type": "code",
   "execution_count": 5,
   "id": "85364d51",
   "metadata": {},
   "outputs": [],
   "source": [
    "with open('/GitHub/NEXTTRIP/flask_LocationModel/config/db_config.py', 'r') as databaseUrlFile:\n",
    "    DB_URL = databaseUrlFile.read()\n",
    "DB_URL\n",
    "\n",
    "match = re.search(r'\"([^\"]*)\"', DB_URL)\n",
    "\n",
    "if match:\n",
    "    database_url = match.group(1)\n",
    "else:\n",
    "    print(\"No match found\")"
   ]
  },
  {
   "cell_type": "code",
   "execution_count": 6,
   "id": "0c7e8749",
   "metadata": {},
   "outputs": [],
   "source": [
    "client = pymongo.MongoClient(database_url)"
   ]
  },
  {
   "cell_type": "code",
   "execution_count": 7,
   "id": "466b13d5",
   "metadata": {},
   "outputs": [],
   "source": [
    "db = client['NextTripDB']\n",
    "collection = db['rides_data']"
   ]
  },
  {
   "cell_type": "code",
   "execution_count": 8,
   "id": "ee30ff6f",
   "metadata": {},
   "outputs": [
    {
     "data": {
      "text/html": [
       "<div>\n",
       "<style scoped>\n",
       "    .dataframe tbody tr th:only-of-type {\n",
       "        vertical-align: middle;\n",
       "    }\n",
       "\n",
       "    .dataframe tbody tr th {\n",
       "        vertical-align: top;\n",
       "    }\n",
       "\n",
       "    .dataframe thead th {\n",
       "        text-align: right;\n",
       "    }\n",
       "</style>\n",
       "<table border=\"1\" class=\"dataframe\">\n",
       "  <thead>\n",
       "    <tr style=\"text-align: right;\">\n",
       "      <th></th>\n",
       "      <th>_id</th>\n",
       "      <th>Date/Time</th>\n",
       "      <th>Lat</th>\n",
       "      <th>Lon</th>\n",
       "      <th>__v</th>\n",
       "    </tr>\n",
       "  </thead>\n",
       "  <tbody>\n",
       "    <tr>\n",
       "      <th>0</th>\n",
       "      <td>650db48407e33ccdd2398bfa</td>\n",
       "      <td>4/1/2014 0:17:00</td>\n",
       "      <td>40.7267</td>\n",
       "      <td>-74.0345</td>\n",
       "      <td>NaN</td>\n",
       "    </tr>\n",
       "    <tr>\n",
       "      <th>1</th>\n",
       "      <td>650db48407e33ccdd2398bfe</td>\n",
       "      <td>4/1/2014 0:33:00</td>\n",
       "      <td>40.7383</td>\n",
       "      <td>-74.0403</td>\n",
       "      <td>NaN</td>\n",
       "    </tr>\n",
       "    <tr>\n",
       "      <th>2</th>\n",
       "      <td>650db48407e33ccdd2398bff</td>\n",
       "      <td>4/1/2014 0:39:00</td>\n",
       "      <td>40.7223</td>\n",
       "      <td>-73.9887</td>\n",
       "      <td>NaN</td>\n",
       "    </tr>\n",
       "    <tr>\n",
       "      <th>3</th>\n",
       "      <td>650db48407e33ccdd2398c06</td>\n",
       "      <td>4/1/2014 2:11:00</td>\n",
       "      <td>40.6463</td>\n",
       "      <td>-73.7896</td>\n",
       "      <td>NaN</td>\n",
       "    </tr>\n",
       "    <tr>\n",
       "      <th>4</th>\n",
       "      <td>650db48407e33ccdd2398c09</td>\n",
       "      <td>4/1/2014 2:43:00</td>\n",
       "      <td>40.7580</td>\n",
       "      <td>-73.9761</td>\n",
       "      <td>NaN</td>\n",
       "    </tr>\n",
       "  </tbody>\n",
       "</table>\n",
       "</div>"
      ],
      "text/plain": [
       "                        _id         Date/Time      Lat      Lon  __v\n",
       "0  650db48407e33ccdd2398bfa  4/1/2014 0:17:00  40.7267 -74.0345  NaN\n",
       "1  650db48407e33ccdd2398bfe  4/1/2014 0:33:00  40.7383 -74.0403  NaN\n",
       "2  650db48407e33ccdd2398bff  4/1/2014 0:39:00  40.7223 -73.9887  NaN\n",
       "3  650db48407e33ccdd2398c06  4/1/2014 2:11:00  40.6463 -73.7896  NaN\n",
       "4  650db48407e33ccdd2398c09  4/1/2014 2:43:00  40.7580 -73.9761  NaN"
      ]
     },
     "execution_count": 8,
     "metadata": {},
     "output_type": "execute_result"
    }
   ],
   "source": [
    "# Retrieve the JSON data from MongoDB\n",
    "data = list(collection.find({}))  \n",
    "data_df = pd.DataFrame(data)\n",
    "data_df.head()"
   ]
  },
  {
   "cell_type": "code",
   "execution_count": 9,
   "id": "b259c07d",
   "metadata": {},
   "outputs": [],
   "source": [
    "# Load the dataset\n",
    "# data = pd.read_csv('/GitHub/NEXTTRIP/flask_LocationModel/data/uber-raw-data-apr14.csv')"
   ]
  },
  {
   "cell_type": "code",
   "execution_count": 10,
   "id": "908dc200",
   "metadata": {},
   "outputs": [],
   "source": [
    "# Preprocess the data\n",
    "data_df['Date/Time'] = pd.to_datetime(data_df['Date/Time'])"
   ]
  },
  {
   "cell_type": "code",
   "execution_count": 11,
   "id": "8832dae6",
   "metadata": {},
   "outputs": [],
   "source": [
    "# Feature Engineering\n",
    "data_df['weekday'] = data_df['Date/Time'].dt.weekday\n",
    "data_df['hour'] = data_df['Date/Time'].dt.hour"
   ]
  },
  {
   "cell_type": "code",
   "execution_count": 12,
   "metadata": {},
   "outputs": [],
   "source": [
    "dateTime_data = data_df[['weekday', 'hour']]\n",
    "location_data = data_df[['Lat', 'Lon']]"
   ]
  },
  {
   "cell_type": "code",
   "execution_count": 13,
   "metadata": {},
   "outputs": [],
   "source": [
    "num_clusters = 100"
   ]
  },
  {
   "cell_type": "code",
   "execution_count": 14,
   "metadata": {},
   "outputs": [
    {
     "name": "stderr",
     "output_type": "stream",
     "text": [
      "d:\\GitHub\\NextTrip\\flask_LocationModel\\env\\lib\\site-packages\\sklearn\\cluster\\_kmeans.py:1412: FutureWarning: The default value of `n_init` will change from 10 to 'auto' in 1.4. Set the value of `n_init` explicitly to suppress the warning\n",
      "  super()._check_params_vs_input(X, default_n_init=10)\n"
     ]
    }
   ],
   "source": [
    "# Apply K-means clustering on the location data\n",
    "kmeans = KMeans(n_clusters=num_clusters)\n",
    "data_df['cluster'] = kmeans.fit_predict(location_data)"
   ]
  },
  {
   "cell_type": "code",
   "execution_count": 15,
   "id": "5ed95976",
   "metadata": {},
   "outputs": [
    {
     "data": {
      "text/html": [
       "<div>\n",
       "<style scoped>\n",
       "    .dataframe tbody tr th:only-of-type {\n",
       "        vertical-align: middle;\n",
       "    }\n",
       "\n",
       "    .dataframe tbody tr th {\n",
       "        vertical-align: top;\n",
       "    }\n",
       "\n",
       "    .dataframe thead th {\n",
       "        text-align: right;\n",
       "    }\n",
       "</style>\n",
       "<table border=\"1\" class=\"dataframe\">\n",
       "  <thead>\n",
       "    <tr style=\"text-align: right;\">\n",
       "      <th></th>\n",
       "      <th>_id</th>\n",
       "      <th>Date/Time</th>\n",
       "      <th>Lat</th>\n",
       "      <th>Lon</th>\n",
       "      <th>__v</th>\n",
       "      <th>weekday</th>\n",
       "      <th>hour</th>\n",
       "      <th>cluster</th>\n",
       "    </tr>\n",
       "  </thead>\n",
       "  <tbody>\n",
       "    <tr>\n",
       "      <th>0</th>\n",
       "      <td>650db48407e33ccdd2398bfa</td>\n",
       "      <td>2014-04-01 00:17:00</td>\n",
       "      <td>40.7267</td>\n",
       "      <td>-74.0345</td>\n",
       "      <td>NaN</td>\n",
       "      <td>1</td>\n",
       "      <td>0</td>\n",
       "      <td>90</td>\n",
       "    </tr>\n",
       "    <tr>\n",
       "      <th>1</th>\n",
       "      <td>650db48407e33ccdd2398bfe</td>\n",
       "      <td>2014-04-01 00:33:00</td>\n",
       "      <td>40.7383</td>\n",
       "      <td>-74.0403</td>\n",
       "      <td>NaN</td>\n",
       "      <td>1</td>\n",
       "      <td>0</td>\n",
       "      <td>39</td>\n",
       "    </tr>\n",
       "    <tr>\n",
       "      <th>2</th>\n",
       "      <td>650db48407e33ccdd2398bff</td>\n",
       "      <td>2014-04-01 00:39:00</td>\n",
       "      <td>40.7223</td>\n",
       "      <td>-73.9887</td>\n",
       "      <td>NaN</td>\n",
       "      <td>1</td>\n",
       "      <td>0</td>\n",
       "      <td>74</td>\n",
       "    </tr>\n",
       "    <tr>\n",
       "      <th>3</th>\n",
       "      <td>650db48407e33ccdd2398c06</td>\n",
       "      <td>2014-04-01 02:11:00</td>\n",
       "      <td>40.6463</td>\n",
       "      <td>-73.7896</td>\n",
       "      <td>NaN</td>\n",
       "      <td>1</td>\n",
       "      <td>2</td>\n",
       "      <td>82</td>\n",
       "    </tr>\n",
       "    <tr>\n",
       "      <th>4</th>\n",
       "      <td>650db48407e33ccdd2398c09</td>\n",
       "      <td>2014-04-01 02:43:00</td>\n",
       "      <td>40.7580</td>\n",
       "      <td>-73.9761</td>\n",
       "      <td>NaN</td>\n",
       "      <td>1</td>\n",
       "      <td>2</td>\n",
       "      <td>43</td>\n",
       "    </tr>\n",
       "  </tbody>\n",
       "</table>\n",
       "</div>"
      ],
      "text/plain": [
       "                        _id           Date/Time      Lat      Lon  __v  \\\n",
       "0  650db48407e33ccdd2398bfa 2014-04-01 00:17:00  40.7267 -74.0345  NaN   \n",
       "1  650db48407e33ccdd2398bfe 2014-04-01 00:33:00  40.7383 -74.0403  NaN   \n",
       "2  650db48407e33ccdd2398bff 2014-04-01 00:39:00  40.7223 -73.9887  NaN   \n",
       "3  650db48407e33ccdd2398c06 2014-04-01 02:11:00  40.6463 -73.7896  NaN   \n",
       "4  650db48407e33ccdd2398c09 2014-04-01 02:43:00  40.7580 -73.9761  NaN   \n",
       "\n",
       "   weekday  hour  cluster  \n",
       "0        1     0       90  \n",
       "1        1     0       39  \n",
       "2        1     0       74  \n",
       "3        1     2       82  \n",
       "4        1     2       43  "
      ]
     },
     "execution_count": 15,
     "metadata": {},
     "output_type": "execute_result"
    }
   ],
   "source": [
    "data_df.head()"
   ]
  },
  {
   "cell_type": "code",
   "execution_count": 23,
   "metadata": {},
   "outputs": [
    {
     "name": "stdout",
     "output_type": "stream",
     "text": [
      "Training model for cluster: 0\n",
      "Training model for cluster: 1\n",
      "Training model for cluster: 2\n",
      "Training model for cluster: 3\n",
      "Training model for cluster: 4\n",
      "Training model for cluster: 5\n",
      "Training model for cluster: 6\n",
      "Training model for cluster: 7\n",
      "Training model for cluster: 8\n",
      "Training model for cluster: 9\n",
      "Training model for cluster: 10\n",
      "Training model for cluster: 11\n",
      "Training model for cluster: 12\n",
      "Training model for cluster: 13\n",
      "Training model for cluster: 14\n",
      "Training model for cluster: 15\n",
      "Training model for cluster: 16\n",
      "Training model for cluster: 17\n",
      "Training model for cluster: 18\n",
      "Training model for cluster: 19\n",
      "Training model for cluster: 20\n",
      "Training model for cluster: 21\n",
      "Training model for cluster: 22\n",
      "Training model for cluster: 23\n",
      "Training model for cluster: 24\n",
      "Training model for cluster: 25\n",
      "Training model for cluster: 26\n",
      "Training model for cluster: 27\n",
      "Training model for cluster: 28\n",
      "Training model for cluster: 29\n",
      "Training model for cluster: 30\n",
      "Training model for cluster: 31\n",
      "Training model for cluster: 32\n",
      "Training model for cluster: 33\n",
      "Training model for cluster: 34\n",
      "Training model for cluster: 35\n",
      "Training model for cluster: 36\n",
      "Training model for cluster: 37\n",
      "Training model for cluster: 38\n",
      "Training model for cluster: 39\n",
      "Training model for cluster: 40\n",
      "Training model for cluster: 41\n",
      "Training model for cluster: 42\n",
      "Training model for cluster: 43\n",
      "Training model for cluster: 44\n",
      "Training model for cluster: 45\n",
      "Training model for cluster: 46\n",
      "Training model for cluster: 47\n",
      "Skipping splitting data in cluster 47 due to insufficient data points.\n",
      "Training model for cluster: 48\n",
      "Training model for cluster: 49\n",
      "Training model for cluster: 50\n",
      "Training model for cluster: 51\n",
      "Training model for cluster: 52\n",
      "Training model for cluster: 53\n",
      "Training model for cluster: 54\n",
      "Training model for cluster: 55\n",
      "Training model for cluster: 56\n",
      "Training model for cluster: 57\n",
      "Training model for cluster: 58\n",
      "Training model for cluster: 59\n",
      "Training model for cluster: 60\n",
      "Training model for cluster: 61\n",
      "Training model for cluster: 62\n",
      "Training model for cluster: 63\n",
      "Training model for cluster: 64\n",
      "Training model for cluster: 65\n",
      "Training model for cluster: 66\n",
      "Training model for cluster: 67\n",
      "Training model for cluster: 68\n",
      "Training model for cluster: 69\n",
      "Training model for cluster: 70\n",
      "Training model for cluster: 71\n",
      "Training model for cluster: 72\n",
      "Training model for cluster: 73\n",
      "Training model for cluster: 74\n",
      "Training model for cluster: 75\n",
      "Skipping splitting data in cluster 75 due to insufficient data points.\n",
      "Training model for cluster: 76\n",
      "Training model for cluster: 77\n",
      "Training model for cluster: 78\n",
      "Training model for cluster: 79\n",
      "Training model for cluster: 80\n",
      "Training model for cluster: 81\n",
      "Training model for cluster: 82\n",
      "Training model for cluster: 83\n",
      "Training model for cluster: 84\n",
      "Training model for cluster: 85\n",
      "Training model for cluster: 86\n",
      "Training model for cluster: 87\n",
      "Training model for cluster: 88\n",
      "Training model for cluster: 89\n",
      "Training model for cluster: 90\n",
      "Training model for cluster: 91\n",
      "Training model for cluster: 92\n",
      "Training model for cluster: 93\n",
      "Training model for cluster: 94\n",
      "Training model for cluster: 95\n",
      "Training model for cluster: 96\n",
      "Training model for cluster: 97\n",
      "Training model for cluster: 98\n",
      "Training model for cluster: 99\n"
     ]
    }
   ],
   "source": [
    "# train a model for each cluster\n",
    "models= {}\n",
    "rmses_lat = []\n",
    "rmses_lon = []\n",
    "\n",
    "for cluster_id in range(num_clusters):\n",
    "    print('Training model for cluster: {}'.format(cluster_id))\n",
    "    cluster_data = data_df[data_df['cluster'] == cluster_id]\n",
    "\n",
    "    X = cluster_data[['weekday', 'hour']]\n",
    "    y_lat = cluster_data['Lat']\n",
    "    y_lon = cluster_data['Lon']\n",
    "\n",
    "    if len(cluster_data) < 2:\n",
    "        print(f\"Skipping splitting data in cluster {cluster_id} due to insufficient data points.\")\n",
    "\n",
    "        model_lat = RandomForestRegressor()\n",
    "        model_lat.fit(X, y_lat)\n",
    "\n",
    "        model_lon = RandomForestRegressor()\n",
    "        model_lon.fit(X, y_lon)\n",
    "\n",
    "        y_lat_pred = model_lat.predict(X)\n",
    "        y_lon_pred = model_lon.predict(X)\n",
    "\n",
    "        rmse_lat = mean_squared_error(y_lat, y_lat_pred, squared=False)\n",
    "        rmse_lon = mean_squared_error(y_lon, y_lon_pred, squared=False)\n",
    "\n",
    "        rmses_lat.append(rmse_lat)\n",
    "        rmses_lon.append(rmse_lon)\n",
    "\n",
    "    else :\n",
    "\n",
    "        X_train, X_test, y_lat_train, y_lat_test, y_lon_train, y_lon_test = train_test_split(X, y_lat, y_lon, test_size=0.2, random_state=42)\n",
    "\n",
    "        model_lat = RandomForestRegressor()\n",
    "        model_lat.fit(X_train, y_lat_train)\n",
    "\n",
    "        model_lon = RandomForestRegressor()\n",
    "        model_lon.fit(X_train, y_lon_train)\n",
    "\n",
    "        y_lat_pred = model_lat.predict(X_test)\n",
    "        y_lon_pred = model_lon.predict(X_test)\n",
    "\n",
    "        mse_lat = mean_squared_error(y_lat_test, y_lat_pred)\n",
    "        mse_lon = mean_squared_error(y_lon_test, y_lon_pred)\n",
    "\n",
    "        rmse_lat = mean_squared_error(y_lat_test, y_lat_pred, squared=False)\n",
    "        rmse_lon = mean_squared_error(y_lon_test, y_lon_pred, squared=False)\n",
    "\n",
    "        rmses_lat.append(rmse_lat)\n",
    "        rmses_lon.append(rmse_lon)\n",
    "\n",
    "    joblib.dump(model_lat, f'/GitHub/NEXTTRIP/flask_LocationModel/models/clusters/cluster_{cluster_id}_lat_model.pkl')\n",
    "    joblib.dump(model_lon, f'/GitHub/NEXTTRIP/flask_LocationModel/models/clusters/cluster_{cluster_id}_lon_model.pkl')\n",
    "    \n",
    "    \n"
   ]
  },
  {
   "cell_type": "code",
   "execution_count": 24,
   "id": "631c12b5",
   "metadata": {},
   "outputs": [
    {
     "name": "stdout",
     "output_type": "stream",
     "text": [
      "Average RMSE for latitude: 0.022379436806737547\n",
      "Average RMSE for longitude: 0.021696016348763895\n"
     ]
    }
   ],
   "source": [
    "rmses_lat_avg = sum(rmses_lat) / len(rmses_lat)\n",
    "rmses_lon_avg = sum(rmses_lon) / len(rmses_lon)\n",
    "print(f\"Average RMSE for latitude: {rmses_lat_avg}\")\n",
    "print(f\"Average RMSE for longitude: {rmses_lon_avg}\")"
   ]
  },
  {
   "cell_type": "code",
   "execution_count": 25,
   "metadata": {},
   "outputs": [
    {
     "data": {
      "text/plain": [
       "['/GitHub/NEXTTRIP/flask_LocationModel/models/kmeans_model.pkl']"
      ]
     },
     "execution_count": 25,
     "metadata": {},
     "output_type": "execute_result"
    }
   ],
   "source": [
    "# Persist the KMeans model\n",
    "joblib.dump(kmeans, '/GitHub/NEXTTRIP/flask_LocationModel/models/kmeans_model.pkl')"
   ]
  },
  {
   "cell_type": "code",
   "execution_count": null,
   "id": "994d8ea5",
   "metadata": {},
   "outputs": [],
   "source": [
    "#Save model columns\n",
    "# rnd_columns = list(X_train.columns)\n",
    "# joblib.dump(rnd_columns, '/GitHub/NEXTTRIP/flask_LocationModel/models/rnd_columns.pkl')"
   ]
  }
 ],
 "metadata": {
  "kernelspec": {
   "display_name": "env",
   "language": "python",
   "name": "python3"
  },
  "language_info": {
   "codemirror_mode": {
    "name": "ipython",
    "version": 3
   },
   "file_extension": ".py",
   "mimetype": "text/x-python",
   "name": "python",
   "nbconvert_exporter": "python",
   "pygments_lexer": "ipython3",
   "version": "3.10.0"
  }
 },
 "nbformat": 4,
 "nbformat_minor": 5
}
