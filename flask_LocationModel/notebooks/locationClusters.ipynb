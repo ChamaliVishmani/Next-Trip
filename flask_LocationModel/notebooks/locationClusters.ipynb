{
 "cells": [
  {
   "cell_type": "code",
   "execution_count": 2,
   "id": "d1785035",
   "metadata": {},
   "outputs": [],
   "source": [
    "# Imports\n",
    "import pymongo\n",
    "import pandas as pd\n",
    "# from sklearn.model_selection import train_test_split\n",
    "# from sklearn.ensemble import RandomForestRegressor\n",
    "# from sklearn.metrics import mean_squared_error\n",
    "# from datetime import datetime\n",
    "import joblib"
   ]
  },
  {
   "cell_type": "code",
   "execution_count": 3,
   "metadata": {},
   "outputs": [],
   "source": [
    "from sklearn.cluster import KMeans\n",
    "from sklearn.ensemble import RandomForestClassifier"
   ]
  },
  {
   "cell_type": "code",
   "execution_count": 4,
   "id": "fcaff0b8",
   "metadata": {},
   "outputs": [],
   "source": [
    "# import sys\n",
    "# sys.path.append('d:\\\\GitHub\\\\NextTrip\\\\flask_LocationModel\\\\config')"
   ]
  },
  {
   "cell_type": "code",
   "execution_count": 5,
   "id": "2d7579cd",
   "metadata": {},
   "outputs": [],
   "source": [
    "import re"
   ]
  },
  {
   "cell_type": "code",
   "execution_count": 6,
   "id": "85364d51",
   "metadata": {},
   "outputs": [],
   "source": [
    "with open('/GitHub/NEXTTRIP/flask_LocationModel/config/db_config.py', 'r') as databaseUrlFile:\n",
    "    DB_URL = databaseUrlFile.read()\n",
    "DB_URL\n",
    "\n",
    "match = re.search(r'\"([^\"]*)\"', DB_URL)\n",
    "\n",
    "if match:\n",
    "    database_url = match.group(1)\n",
    "else:\n",
    "    print(\"No match found\")"
   ]
  },
  {
   "cell_type": "code",
   "execution_count": 7,
   "id": "0c7e8749",
   "metadata": {},
   "outputs": [],
   "source": [
    "client = pymongo.MongoClient(database_url)"
   ]
  },
  {
   "cell_type": "code",
   "execution_count": 8,
   "id": "466b13d5",
   "metadata": {},
   "outputs": [],
   "source": [
    "db = client['NextTripDB']\n",
    "collection = db['rides_data']"
   ]
  },
  {
   "cell_type": "code",
   "execution_count": 9,
   "id": "ee30ff6f",
   "metadata": {},
   "outputs": [
    {
     "data": {
      "text/html": [
       "<div>\n",
       "<style scoped>\n",
       "    .dataframe tbody tr th:only-of-type {\n",
       "        vertical-align: middle;\n",
       "    }\n",
       "\n",
       "    .dataframe tbody tr th {\n",
       "        vertical-align: top;\n",
       "    }\n",
       "\n",
       "    .dataframe thead th {\n",
       "        text-align: right;\n",
       "    }\n",
       "</style>\n",
       "<table border=\"1\" class=\"dataframe\">\n",
       "  <thead>\n",
       "    <tr style=\"text-align: right;\">\n",
       "      <th></th>\n",
       "      <th>_id</th>\n",
       "      <th>Date/Time</th>\n",
       "      <th>Lat</th>\n",
       "      <th>Lon</th>\n",
       "      <th>__v</th>\n",
       "    </tr>\n",
       "  </thead>\n",
       "  <tbody>\n",
       "    <tr>\n",
       "      <th>0</th>\n",
       "      <td>650db48407e33ccdd2398bfa</td>\n",
       "      <td>4/1/2014 0:17:00</td>\n",
       "      <td>40.7267</td>\n",
       "      <td>-74.0345</td>\n",
       "      <td>NaN</td>\n",
       "    </tr>\n",
       "    <tr>\n",
       "      <th>1</th>\n",
       "      <td>650db48407e33ccdd2398bfe</td>\n",
       "      <td>4/1/2014 0:33:00</td>\n",
       "      <td>40.7383</td>\n",
       "      <td>-74.0403</td>\n",
       "      <td>NaN</td>\n",
       "    </tr>\n",
       "    <tr>\n",
       "      <th>2</th>\n",
       "      <td>650db48407e33ccdd2398bff</td>\n",
       "      <td>4/1/2014 0:39:00</td>\n",
       "      <td>40.7223</td>\n",
       "      <td>-73.9887</td>\n",
       "      <td>NaN</td>\n",
       "    </tr>\n",
       "    <tr>\n",
       "      <th>3</th>\n",
       "      <td>650db48407e33ccdd2398c06</td>\n",
       "      <td>4/1/2014 2:11:00</td>\n",
       "      <td>40.6463</td>\n",
       "      <td>-73.7896</td>\n",
       "      <td>NaN</td>\n",
       "    </tr>\n",
       "    <tr>\n",
       "      <th>4</th>\n",
       "      <td>650db48407e33ccdd2398c09</td>\n",
       "      <td>4/1/2014 2:43:00</td>\n",
       "      <td>40.7580</td>\n",
       "      <td>-73.9761</td>\n",
       "      <td>NaN</td>\n",
       "    </tr>\n",
       "  </tbody>\n",
       "</table>\n",
       "</div>"
      ],
      "text/plain": [
       "                        _id         Date/Time      Lat      Lon  __v\n",
       "0  650db48407e33ccdd2398bfa  4/1/2014 0:17:00  40.7267 -74.0345  NaN\n",
       "1  650db48407e33ccdd2398bfe  4/1/2014 0:33:00  40.7383 -74.0403  NaN\n",
       "2  650db48407e33ccdd2398bff  4/1/2014 0:39:00  40.7223 -73.9887  NaN\n",
       "3  650db48407e33ccdd2398c06  4/1/2014 2:11:00  40.6463 -73.7896  NaN\n",
       "4  650db48407e33ccdd2398c09  4/1/2014 2:43:00  40.7580 -73.9761  NaN"
      ]
     },
     "execution_count": 9,
     "metadata": {},
     "output_type": "execute_result"
    }
   ],
   "source": [
    "# Retrieve the JSON data from MongoDB\n",
    "data = list(collection.find({}))  \n",
    "data_df = pd.DataFrame(data)\n",
    "data_df.head()"
   ]
  },
  {
   "cell_type": "code",
   "execution_count": 10,
   "id": "b259c07d",
   "metadata": {},
   "outputs": [],
   "source": [
    "# Load the dataset\n",
    "# data = pd.read_csv('/GitHub/NEXTTRIP/flask_LocationModel/data/uber-raw-data-apr14.csv')"
   ]
  },
  {
   "cell_type": "code",
   "execution_count": 11,
   "id": "908dc200",
   "metadata": {},
   "outputs": [],
   "source": [
    "# Preprocess the data\n",
    "data_df['Date/Time'] = pd.to_datetime(data_df['Date/Time'])"
   ]
  },
  {
   "cell_type": "code",
   "execution_count": 12,
   "id": "8832dae6",
   "metadata": {},
   "outputs": [],
   "source": [
    "# Feature Engineering\n",
    "data_df['weekday'] = data_df['Date/Time'].dt.weekday\n",
    "data_df['hour'] = data_df['Date/Time'].dt.hour"
   ]
  },
  {
   "cell_type": "code",
   "execution_count": 13,
   "metadata": {},
   "outputs": [],
   "source": [
    "dateTime_data = data_df[['weekday', 'hour']]\n",
    "location_data = data_df[['Lat', 'Lon']]"
   ]
  },
  {
   "cell_type": "code",
   "execution_count": 14,
   "metadata": {},
   "outputs": [],
   "source": [
    "num_clusters = 100"
   ]
  },
  {
   "cell_type": "code",
   "execution_count": 15,
   "metadata": {},
   "outputs": [
    {
     "name": "stderr",
     "output_type": "stream",
     "text": [
      "d:\\GitHub\\NextTrip\\flask_LocationModel\\env\\lib\\site-packages\\sklearn\\cluster\\_kmeans.py:1412: FutureWarning: The default value of `n_init` will change from 10 to 'auto' in 1.4. Set the value of `n_init` explicitly to suppress the warning\n",
      "  super()._check_params_vs_input(X, default_n_init=10)\n"
     ]
    }
   ],
   "source": [
    "# Apply K-means clustering on the location data\n",
    "kmeans = KMeans(n_clusters=num_clusters)\n",
    "data_df['cluster'] = kmeans.fit_predict(location_data)"
   ]
  },
  {
   "cell_type": "code",
   "execution_count": 16,
   "metadata": {},
   "outputs": [
    {
     "name": "stdout",
     "output_type": "stream",
     "text": [
      "Training model for cluster: 0\n",
      "Training model for cluster: 1\n",
      "Training model for cluster: 2\n",
      "Training model for cluster: 3\n",
      "Training model for cluster: 4\n",
      "Training model for cluster: 5\n",
      "Training model for cluster: 6\n",
      "Training model for cluster: 7\n",
      "Training model for cluster: 8\n",
      "Training model for cluster: 9\n",
      "Training model for cluster: 10\n",
      "Training model for cluster: 11\n",
      "Training model for cluster: 12\n",
      "Training model for cluster: 13\n",
      "Training model for cluster: 14\n",
      "Training model for cluster: 15\n",
      "Training model for cluster: 16\n",
      "Training model for cluster: 17\n",
      "Training model for cluster: 18\n",
      "Training model for cluster: 19\n",
      "Training model for cluster: 20\n",
      "Training model for cluster: 21\n",
      "Training model for cluster: 22\n",
      "Training model for cluster: 23\n",
      "Training model for cluster: 24\n",
      "Training model for cluster: 25\n",
      "Training model for cluster: 26\n",
      "Training model for cluster: 27\n",
      "Training model for cluster: 28\n",
      "Training model for cluster: 29\n",
      "Training model for cluster: 30\n",
      "Training model for cluster: 31\n",
      "Training model for cluster: 32\n",
      "Training model for cluster: 33\n",
      "Training model for cluster: 34\n",
      "Training model for cluster: 35\n",
      "Training model for cluster: 36\n",
      "Training model for cluster: 37\n",
      "Training model for cluster: 38\n",
      "Training model for cluster: 39\n",
      "Training model for cluster: 40\n",
      "Training model for cluster: 41\n",
      "Training model for cluster: 42\n",
      "Training model for cluster: 43\n",
      "Training model for cluster: 44\n",
      "Training model for cluster: 45\n",
      "Training model for cluster: 46\n",
      "Training model for cluster: 47\n",
      "Training model for cluster: 48\n",
      "Training model for cluster: 49\n",
      "Training model for cluster: 50\n",
      "Training model for cluster: 51\n",
      "Training model for cluster: 52\n",
      "Training model for cluster: 53\n",
      "Training model for cluster: 54\n",
      "Training model for cluster: 55\n",
      "Training model for cluster: 56\n",
      "Training model for cluster: 57\n",
      "Training model for cluster: 58\n",
      "Training model for cluster: 59\n",
      "Training model for cluster: 60\n",
      "Training model for cluster: 61\n",
      "Training model for cluster: 62\n",
      "Training model for cluster: 63\n",
      "Training model for cluster: 64\n",
      "Training model for cluster: 65\n",
      "Training model for cluster: 66\n",
      "Training model for cluster: 67\n",
      "Training model for cluster: 68\n",
      "Training model for cluster: 69\n",
      "Training model for cluster: 70\n",
      "Training model for cluster: 71\n",
      "Training model for cluster: 72\n",
      "Training model for cluster: 73\n",
      "Training model for cluster: 74\n",
      "Training model for cluster: 75\n",
      "Training model for cluster: 76\n",
      "Training model for cluster: 77\n",
      "Training model for cluster: 78\n",
      "Training model for cluster: 79\n",
      "Training model for cluster: 80\n",
      "Training model for cluster: 81\n",
      "Training model for cluster: 82\n",
      "Training model for cluster: 83\n",
      "Training model for cluster: 84\n",
      "Training model for cluster: 85\n",
      "Training model for cluster: 86\n",
      "Training model for cluster: 87\n",
      "Training model for cluster: 88\n",
      "Training model for cluster: 89\n",
      "Training model for cluster: 90\n",
      "Training model for cluster: 91\n",
      "Training model for cluster: 92\n",
      "Training model for cluster: 93\n",
      "Training model for cluster: 94\n",
      "Training model for cluster: 95\n",
      "Training model for cluster: 96\n",
      "Training model for cluster: 97\n",
      "Training model for cluster: 98\n",
      "Training model for cluster: 99\n"
     ]
    }
   ],
   "source": [
    "# train a model for each cluster\n",
    "models= {}\n",
    "for cluster_id in range(num_clusters):\n",
    "    print('Training model for cluster: {}'.format(cluster_id))\n",
    "    cluster_data = data_df[data_df['cluster'] == cluster_id]\n",
    "    cluster_features  = cluster_data[['weekday', 'hour']]\n",
    "    cluster_target = cluster_data['cluster']\n",
    "\n",
    "    # train a random forest classifier\n",
    "    model = RandomForestClassifier()\n",
    "    model.fit(cluster_features, cluster_target)\n",
    "    models[cluster_id] = model"
   ]
  },
  {
   "cell_type": "code",
   "execution_count": 17,
   "metadata": {},
   "outputs": [
    {
     "name": "stderr",
     "output_type": "stream",
     "text": [
      "d:\\GitHub\\NextTrip\\flask_LocationModel\\env\\lib\\site-packages\\sklearn\\base.py:464: UserWarning: X does not have valid feature names, but KMeans was fitted with feature names\n",
      "  warnings.warn(\n",
      "d:\\GitHub\\NextTrip\\flask_LocationModel\\env\\lib\\site-packages\\sklearn\\base.py:464: UserWarning: X does not have valid feature names, but RandomForestClassifier was fitted with feature names\n",
      "  warnings.warn(\n"
     ]
    }
   ],
   "source": [
    "new_latitude = 40.7128  # Example latitude\n",
    "new_longitude = -74.0060  # Example longitude\n",
    "new_date = '1'  # Example date\n",
    "new_time = '15'  # Example time\n",
    "\n",
    "new_cluster = kmeans.predict([[new_latitude, new_longitude]])[0]\n",
    "predicted_model = models[new_cluster]\n",
    "predicted_cluster = predicted_model.predict([[new_date, new_time]])[0]"
   ]
  },
  {
   "cell_type": "code",
   "execution_count": 18,
   "metadata": {},
   "outputs": [
    {
     "data": {
      "text/plain": [
       "46"
      ]
     },
     "execution_count": 18,
     "metadata": {},
     "output_type": "execute_result"
    }
   ],
   "source": [
    "predicted_cluster"
   ]
  },
  {
   "cell_type": "code",
   "execution_count": 19,
   "metadata": {},
   "outputs": [
    {
     "name": "stderr",
     "output_type": "stream",
     "text": [
      "d:\\GitHub\\NextTrip\\flask_LocationModel\\env\\lib\\site-packages\\sklearn\\base.py:464: UserWarning: X does not have valid feature names, but RandomForestClassifier was fitted with feature names\n",
      "  warnings.warn(\n"
     ]
    }
   ],
   "source": [
    "predicted_model = models[new_cluster]\n",
    "predicted_cluster = predicted_model.predict([[new_date, new_time]])[0]\n",
    "    \n",
    "# Retrieve the centroid (mean) of the cluster for latitude and longitude\n",
    "cluster_centroid = kmeans.cluster_centers_[predicted_cluster]\n",
    "predicted_latitude, predicted_longitude = cluster_centroid[0], cluster_centroid[1]"
   ]
  },
  {
   "cell_type": "code",
   "execution_count": 20,
   "metadata": {},
   "outputs": [
    {
     "data": {
      "text/plain": [
       "40.71062847352025"
      ]
     },
     "execution_count": 20,
     "metadata": {},
     "output_type": "execute_result"
    }
   ],
   "source": [
    "predicted_latitude"
   ]
  },
  {
   "cell_type": "code",
   "execution_count": 21,
   "metadata": {},
   "outputs": [
    {
     "data": {
      "text/plain": [
       "-74.00519775700934"
      ]
     },
     "execution_count": 21,
     "metadata": {},
     "output_type": "execute_result"
    }
   ],
   "source": [
    "predicted_longitude"
   ]
  },
  {
   "cell_type": "code",
   "execution_count": 25,
   "id": "d5e10867",
   "metadata": {},
   "outputs": [],
   "source": [
    "# Persist the models\n",
    "for cluster_id, model in models.items():\n",
    "    joblib.dump(model, f'/GitHub/NEXTTRIP/flask_LocationModel/models/clusters/cluster_{cluster_id}_model.pkl')"
   ]
  },
  {
   "cell_type": "code",
   "execution_count": null,
   "id": "994d8ea5",
   "metadata": {},
   "outputs": [],
   "source": [
    "#Save model columns\n",
    "# rnd_columns = list(X_train.columns)\n",
    "# joblib.dump(rnd_columns, '/GitHub/NEXTTRIP/flask_LocationModel/models/rnd_columns.pkl')"
   ]
  }
 ],
 "metadata": {
  "kernelspec": {
   "display_name": "env",
   "language": "python",
   "name": "python3"
  },
  "language_info": {
   "codemirror_mode": {
    "name": "ipython",
    "version": 3
   },
   "file_extension": ".py",
   "mimetype": "text/x-python",
   "name": "python",
   "nbconvert_exporter": "python",
   "pygments_lexer": "ipython3",
   "version": "3.10.0"
  }
 },
 "nbformat": 4,
 "nbformat_minor": 5
}
