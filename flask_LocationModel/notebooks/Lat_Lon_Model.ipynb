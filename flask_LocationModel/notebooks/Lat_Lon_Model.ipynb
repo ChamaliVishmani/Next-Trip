{
 "cells": [
  {
   "cell_type": "code",
   "execution_count": 11,
   "id": "d1785035",
   "metadata": {},
   "outputs": [],
   "source": [
    "# Imports\n",
    "import pandas as pd\n",
    "from sklearn.model_selection import train_test_split\n",
    "from sklearn.ensemble import RandomForestRegressor\n",
    "from sklearn.metrics import mean_squared_error\n",
    "from datetime import datetime\n",
    "import joblib"
   ]
  },
  {
   "cell_type": "code",
   "execution_count": 12,
   "id": "b259c07d",
   "metadata": {},
   "outputs": [],
   "source": [
    "# Load the dataset\n",
    "data = pd.read_csv('/GitHub/NEXTTRIP/flask_LocationModel/data/uber-raw-data-apr14.csv')"
   ]
  },
  {
   "cell_type": "code",
   "execution_count": 13,
   "id": "908dc200",
   "metadata": {},
   "outputs": [],
   "source": [
    "# Preprocess the data\n",
    "data['Date/Time'] = pd.to_datetime(data['Date/Time'])"
   ]
  },
  {
   "cell_type": "code",
   "execution_count": 14,
   "id": "8832dae6",
   "metadata": {},
   "outputs": [],
   "source": [
    "# Feature Engineering\n",
    "data['weekday'] = data['Date/Time'].dt.weekday\n",
    "data['hour'] = data['Date/Time'].dt.hour"
   ]
  },
  {
   "cell_type": "code",
   "execution_count": 15,
   "id": "1d1a9dfa",
   "metadata": {},
   "outputs": [],
   "source": [
    "# Split the data into features (X) and target variables (y)\n",
    "X = data[['weekday', 'hour']]\n",
    "y_lat = data['Lat']\n",
    "y_lon = data['Lon']"
   ]
  },
  {
   "cell_type": "code",
   "execution_count": 16,
   "id": "7e9d8eda",
   "metadata": {},
   "outputs": [],
   "source": [
    "# Split the data into training and testing sets\n",
    "X_train, X_test, y_lat_train, y_lat_test, y_lon_train, y_lon_test = train_test_split(X, y_lat, y_lon, test_size=0.2, random_state=42)"
   ]
  },
  {
   "cell_type": "code",
   "execution_count": 17,
   "id": "f0824c3e",
   "metadata": {},
   "outputs": [
    {
     "data": {
      "text/html": [
       "<style>#sk-container-id-2 {color: black;}#sk-container-id-2 pre{padding: 0;}#sk-container-id-2 div.sk-toggleable {background-color: white;}#sk-container-id-2 label.sk-toggleable__label {cursor: pointer;display: block;width: 100%;margin-bottom: 0;padding: 0.3em;box-sizing: border-box;text-align: center;}#sk-container-id-2 label.sk-toggleable__label-arrow:before {content: \"▸\";float: left;margin-right: 0.25em;color: #696969;}#sk-container-id-2 label.sk-toggleable__label-arrow:hover:before {color: black;}#sk-container-id-2 div.sk-estimator:hover label.sk-toggleable__label-arrow:before {color: black;}#sk-container-id-2 div.sk-toggleable__content {max-height: 0;max-width: 0;overflow: hidden;text-align: left;background-color: #f0f8ff;}#sk-container-id-2 div.sk-toggleable__content pre {margin: 0.2em;color: black;border-radius: 0.25em;background-color: #f0f8ff;}#sk-container-id-2 input.sk-toggleable__control:checked~div.sk-toggleable__content {max-height: 200px;max-width: 100%;overflow: auto;}#sk-container-id-2 input.sk-toggleable__control:checked~label.sk-toggleable__label-arrow:before {content: \"▾\";}#sk-container-id-2 div.sk-estimator input.sk-toggleable__control:checked~label.sk-toggleable__label {background-color: #d4ebff;}#sk-container-id-2 div.sk-label input.sk-toggleable__control:checked~label.sk-toggleable__label {background-color: #d4ebff;}#sk-container-id-2 input.sk-hidden--visually {border: 0;clip: rect(1px 1px 1px 1px);clip: rect(1px, 1px, 1px, 1px);height: 1px;margin: -1px;overflow: hidden;padding: 0;position: absolute;width: 1px;}#sk-container-id-2 div.sk-estimator {font-family: monospace;background-color: #f0f8ff;border: 1px dotted black;border-radius: 0.25em;box-sizing: border-box;margin-bottom: 0.5em;}#sk-container-id-2 div.sk-estimator:hover {background-color: #d4ebff;}#sk-container-id-2 div.sk-parallel-item::after {content: \"\";width: 100%;border-bottom: 1px solid gray;flex-grow: 1;}#sk-container-id-2 div.sk-label:hover label.sk-toggleable__label {background-color: #d4ebff;}#sk-container-id-2 div.sk-serial::before {content: \"\";position: absolute;border-left: 1px solid gray;box-sizing: border-box;top: 0;bottom: 0;left: 50%;z-index: 0;}#sk-container-id-2 div.sk-serial {display: flex;flex-direction: column;align-items: center;background-color: white;padding-right: 0.2em;padding-left: 0.2em;position: relative;}#sk-container-id-2 div.sk-item {position: relative;z-index: 1;}#sk-container-id-2 div.sk-parallel {display: flex;align-items: stretch;justify-content: center;background-color: white;position: relative;}#sk-container-id-2 div.sk-item::before, #sk-container-id-2 div.sk-parallel-item::before {content: \"\";position: absolute;border-left: 1px solid gray;box-sizing: border-box;top: 0;bottom: 0;left: 50%;z-index: -1;}#sk-container-id-2 div.sk-parallel-item {display: flex;flex-direction: column;z-index: 1;position: relative;background-color: white;}#sk-container-id-2 div.sk-parallel-item:first-child::after {align-self: flex-end;width: 50%;}#sk-container-id-2 div.sk-parallel-item:last-child::after {align-self: flex-start;width: 50%;}#sk-container-id-2 div.sk-parallel-item:only-child::after {width: 0;}#sk-container-id-2 div.sk-dashed-wrapped {border: 1px dashed gray;margin: 0 0.4em 0.5em 0.4em;box-sizing: border-box;padding-bottom: 0.4em;background-color: white;}#sk-container-id-2 div.sk-label label {font-family: monospace;font-weight: bold;display: inline-block;line-height: 1.2em;}#sk-container-id-2 div.sk-label-container {text-align: center;}#sk-container-id-2 div.sk-container {/* jupyter's `normalize.less` sets `[hidden] { display: none; }` but bootstrap.min.css set `[hidden] { display: none !important; }` so we also need the `!important` here to be able to override the default hidden behavior on the sphinx rendered scikit-learn.org. See: https://github.com/scikit-learn/scikit-learn/issues/21755 */display: inline-block !important;position: relative;}#sk-container-id-2 div.sk-text-repr-fallback {display: none;}</style><div id=\"sk-container-id-2\" class=\"sk-top-container\"><div class=\"sk-text-repr-fallback\"><pre>RandomForestRegressor()</pre><b>In a Jupyter environment, please rerun this cell to show the HTML representation or trust the notebook. <br />On GitHub, the HTML representation is unable to render, please try loading this page with nbviewer.org.</b></div><div class=\"sk-container\" hidden><div class=\"sk-item\"><div class=\"sk-estimator sk-toggleable\"><input class=\"sk-toggleable__control sk-hidden--visually\" id=\"sk-estimator-id-2\" type=\"checkbox\" checked><label for=\"sk-estimator-id-2\" class=\"sk-toggleable__label sk-toggleable__label-arrow\">RandomForestRegressor</label><div class=\"sk-toggleable__content\"><pre>RandomForestRegressor()</pre></div></div></div></div></div>"
      ],
      "text/plain": [
       "RandomForestRegressor()"
      ]
     },
     "execution_count": 17,
     "metadata": {},
     "output_type": "execute_result"
    }
   ],
   "source": [
    "# Model Selection and Training\n",
    "model_lat = RandomForestRegressor()\n",
    "model_lat.fit(X_train, y_lat_train)\n",
    "\n",
    "model_lon = RandomForestRegressor()\n",
    "model_lon.fit(X_train, y_lon_train)"
   ]
  },
  {
   "cell_type": "code",
   "execution_count": 18,
   "id": "75a989b9",
   "metadata": {},
   "outputs": [
    {
     "name": "stdout",
     "output_type": "stream",
     "text": [
      "Latitude RMSE: 0.035843937956139445\n",
      "Longitude RMSE: 0.050920703639136984\n"
     ]
    }
   ],
   "source": [
    "# Model Evaluation\n",
    "y_lat_pred = model_lat.predict(X_test)\n",
    "y_lon_pred = model_lon.predict(X_test)\n",
    "\n",
    "mse_lat = mean_squared_error(y_lat_test, y_lat_pred)\n",
    "mse_lon = mean_squared_error(y_lon_test, y_lon_pred)\n",
    "\n",
    "rmse_lat = mean_squared_error(y_lat_test, y_lat_pred, squared=False)\n",
    "rmse_lon = mean_squared_error(y_lon_test, y_lon_pred, squared=False)\n",
    "\n",
    "print('Latitude RMSE:', rmse_lat)\n",
    "print('Longitude RMSE:', rmse_lon)"
   ]
  },
  {
   "cell_type": "code",
   "execution_count": 19,
   "id": "509355b7",
   "metadata": {},
   "outputs": [
    {
     "name": "stdout",
     "output_type": "stream",
     "text": [
      "Weekday: 0\n",
      "Hour: 1\n",
      "Predicted Latitude: 40.73296418630763\n",
      "Predicted Longitude: -73.97403007411584\n"
     ]
    }
   ],
   "source": [
    "# Make Predictions\n",
    "new_datetime = datetime(2023, 8, 21, 1, 30)  # Example new date/time input\n",
    "new_weekday = new_datetime.weekday()\n",
    "print('Weekday:', new_weekday)\n",
    "new_hour = new_datetime.hour\n",
    "print('Hour:', new_hour)\n",
    "\n",
    "new_X = pd.DataFrame({'weekday': [new_weekday], 'hour': [new_hour]})\n",
    "predicted_lat = model_lat.predict(new_X)\n",
    "predicted_lon = model_lon.predict(new_X)\n",
    "\n",
    "print('Predicted Latitude:', predicted_lat[0])\n",
    "print('Predicted Longitude:', predicted_lon[0])"
   ]
  },
  {
   "cell_type": "code",
   "execution_count": 20,
   "id": "d5e10867",
   "metadata": {},
   "outputs": [
    {
     "data": {
      "text/plain": [
       "['/GitHub/NEXTTRIP/flask_LocationModel/models/lon_model.pkl']"
      ]
     },
     "execution_count": 20,
     "metadata": {},
     "output_type": "execute_result"
    }
   ],
   "source": [
    "# Persist the model\n",
    "joblib.dump(model_lat, '/GitHub/NEXTTRIP/flask_LocationModel/models/lat_model.pkl')\n",
    "joblib.dump(model_lon, '/GitHub/NEXTTRIP/flask_LocationModel/models/lon_model.pkl')"
   ]
  },
  {
   "cell_type": "code",
   "execution_count": 21,
   "id": "994d8ea5",
   "metadata": {},
   "outputs": [
    {
     "data": {
      "text/plain": [
       "['/GitHub/NEXTTRIP/flask_LocationModel/models/rnd_columns.pkl']"
      ]
     },
     "execution_count": 21,
     "metadata": {},
     "output_type": "execute_result"
    }
   ],
   "source": [
    "#Save model columns\n",
    "rnd_columns = list(X_train.columns)\n",
    "joblib.dump(rnd_columns, '/GitHub/NEXTTRIP/flask_LocationModel/models/rnd_columns.pkl')"
   ]
  }
 ],
 "metadata": {
  "kernelspec": {
   "display_name": "jupyterenv_nexttrip",
   "language": "python",
   "name": "jupyterenv_nexttrip"
  },
  "language_info": {
   "codemirror_mode": {
    "name": "ipython",
    "version": 3
   },
   "file_extension": ".py",
   "mimetype": "text/x-python",
   "name": "python",
   "nbconvert_exporter": "python",
   "pygments_lexer": "ipython3",
   "version": "3.10.0"
  }
 },
 "nbformat": 4,
 "nbformat_minor": 5
}
