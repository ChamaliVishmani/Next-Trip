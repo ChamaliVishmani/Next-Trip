{
 "cells": [
  {
   "cell_type": "code",
   "execution_count": 10,
   "id": "d1785035",
   "metadata": {},
   "outputs": [],
   "source": [
    "# Imports\n",
    "import pymongo\n",
    "import pandas as pd\n",
    "from sklearn.model_selection import train_test_split\n",
    "from sklearn.ensemble import RandomForestRegressor\n",
    "from sklearn.metrics import mean_squared_error\n",
    "from datetime import datetime\n",
    "import joblib"
   ]
  },
  {
   "cell_type": "code",
   "execution_count": 11,
   "id": "fcaff0b8",
   "metadata": {},
   "outputs": [],
   "source": [
    "import sys\n",
    "sys.path.append('d:\\\\GitHub\\\\NextTrip\\\\flask_LocationModel\\\\config')"
   ]
  },
  {
   "cell_type": "code",
   "execution_count": 12,
   "id": "2d7579cd",
   "metadata": {},
   "outputs": [],
   "source": [
    "from db_config import DB_URL\n",
    "import re"
   ]
  },
  {
   "cell_type": "code",
   "execution_count": 13,
   "id": "85364d51",
   "metadata": {},
   "outputs": [],
   "source": [
    "with open('/GitHub/NEXTTRIP/flask_LocationModel/config/db_config.py', 'r') as databaseUrlFile:\n",
    "    DB_URL = databaseUrlFile.read()\n",
    "DB_URL\n",
    "\n",
    "match = re.search(r'\"([^\"]*)\"', DB_URL)\n",
    "\n",
    "if match:\n",
    "    database_url = match.group(1)\n",
    "else:\n",
    "    print(\"No match found\")"
   ]
  },
  {
   "cell_type": "code",
   "execution_count": 14,
   "id": "0c7e8749",
   "metadata": {},
   "outputs": [],
   "source": [
    "client = pymongo.MongoClient(database_url)"
   ]
  },
  {
   "cell_type": "code",
   "execution_count": 20,
   "id": "466b13d5",
   "metadata": {},
   "outputs": [],
   "source": [
    "db = client['NextTripDB']\n",
    "collection = db['rides_data']"
   ]
  },
  {
   "cell_type": "code",
   "execution_count": 21,
   "id": "ee30ff6f",
   "metadata": {},
   "outputs": [
    {
     "data": {
      "text/html": [
       "<div>\n",
       "<style scoped>\n",
       "    .dataframe tbody tr th:only-of-type {\n",
       "        vertical-align: middle;\n",
       "    }\n",
       "\n",
       "    .dataframe tbody tr th {\n",
       "        vertical-align: top;\n",
       "    }\n",
       "\n",
       "    .dataframe thead th {\n",
       "        text-align: right;\n",
       "    }\n",
       "</style>\n",
       "<table border=\"1\" class=\"dataframe\">\n",
       "  <thead>\n",
       "    <tr style=\"text-align: right;\">\n",
       "      <th></th>\n",
       "      <th>_id</th>\n",
       "      <th>Date/Time</th>\n",
       "      <th>Lat</th>\n",
       "      <th>Lon</th>\n",
       "    </tr>\n",
       "  </thead>\n",
       "  <tbody>\n",
       "    <tr>\n",
       "      <th>0</th>\n",
       "      <td>650db48407e33ccdd2398bf9</td>\n",
       "      <td>4/1/2014 0:11:00</td>\n",
       "      <td>40.7690</td>\n",
       "      <td>-73.9549</td>\n",
       "    </tr>\n",
       "    <tr>\n",
       "      <th>1</th>\n",
       "      <td>650db48407e33ccdd2398bfa</td>\n",
       "      <td>4/1/2014 0:17:00</td>\n",
       "      <td>40.7267</td>\n",
       "      <td>-74.0345</td>\n",
       "    </tr>\n",
       "    <tr>\n",
       "      <th>2</th>\n",
       "      <td>650db48407e33ccdd2398bfb</td>\n",
       "      <td>4/1/2014 0:21:00</td>\n",
       "      <td>40.7316</td>\n",
       "      <td>-73.9873</td>\n",
       "    </tr>\n",
       "    <tr>\n",
       "      <th>3</th>\n",
       "      <td>650db48407e33ccdd2398bfc</td>\n",
       "      <td>4/1/2014 0:28:00</td>\n",
       "      <td>40.7588</td>\n",
       "      <td>-73.9776</td>\n",
       "    </tr>\n",
       "    <tr>\n",
       "      <th>4</th>\n",
       "      <td>650db48407e33ccdd2398bfd</td>\n",
       "      <td>4/1/2014 0:33:00</td>\n",
       "      <td>40.7594</td>\n",
       "      <td>-73.9722</td>\n",
       "    </tr>\n",
       "  </tbody>\n",
       "</table>\n",
       "</div>"
      ],
      "text/plain": [
       "                        _id         Date/Time      Lat      Lon\n",
       "0  650db48407e33ccdd2398bf9  4/1/2014 0:11:00  40.7690 -73.9549\n",
       "1  650db48407e33ccdd2398bfa  4/1/2014 0:17:00  40.7267 -74.0345\n",
       "2  650db48407e33ccdd2398bfb  4/1/2014 0:21:00  40.7316 -73.9873\n",
       "3  650db48407e33ccdd2398bfc  4/1/2014 0:28:00  40.7588 -73.9776\n",
       "4  650db48407e33ccdd2398bfd  4/1/2014 0:33:00  40.7594 -73.9722"
      ]
     },
     "execution_count": 21,
     "metadata": {},
     "output_type": "execute_result"
    }
   ],
   "source": [
    "# Retrieve the JSON data from MongoDB\n",
    "data = list(collection.find({}))  \n",
    "data_df = pd.DataFrame(data)\n",
    "data_df.head()"
   ]
  },
  {
   "cell_type": "code",
   "execution_count": 17,
   "id": "b259c07d",
   "metadata": {},
   "outputs": [],
   "source": [
    "# Load the dataset\n",
    "# data = pd.read_csv('/GitHub/NEXTTRIP/flask_LocationModel/data/uber-raw-data-apr14.csv')"
   ]
  },
  {
   "cell_type": "code",
   "execution_count": 22,
   "id": "908dc200",
   "metadata": {},
   "outputs": [],
   "source": [
    "# Preprocess the data\n",
    "data_df['Date/Time'] = pd.to_datetime(data_df['Date/Time'])"
   ]
  },
  {
   "cell_type": "code",
   "execution_count": 23,
   "id": "8832dae6",
   "metadata": {},
   "outputs": [],
   "source": [
    "# Feature Engineering\n",
    "data_df['weekday'] = data_df['Date/Time'].dt.weekday\n",
    "data_df['hour'] = data_df['Date/Time'].dt.hour"
   ]
  },
  {
   "cell_type": "code",
   "execution_count": 24,
   "id": "1d1a9dfa",
   "metadata": {},
   "outputs": [],
   "source": [
    "# Split the data into features (X) and target variables (y)\n",
    "X = data_df[['weekday', 'hour']]\n",
    "y_lat = data_df['Lat']\n",
    "y_lon = data_df['Lon']"
   ]
  },
  {
   "cell_type": "code",
   "execution_count": 25,
   "id": "7e9d8eda",
   "metadata": {},
   "outputs": [],
   "source": [
    "# Split the data into training and testing sets\n",
    "X_train, X_test, y_lat_train, y_lat_test, y_lon_train, y_lon_test = train_test_split(X, y_lat, y_lon, test_size=0.2, random_state=42)"
   ]
  },
  {
   "cell_type": "code",
   "execution_count": 26,
   "id": "f0824c3e",
   "metadata": {},
   "outputs": [
    {
     "data": {
      "text/html": [
       "<style>#sk-container-id-1 {color: black;}#sk-container-id-1 pre{padding: 0;}#sk-container-id-1 div.sk-toggleable {background-color: white;}#sk-container-id-1 label.sk-toggleable__label {cursor: pointer;display: block;width: 100%;margin-bottom: 0;padding: 0.3em;box-sizing: border-box;text-align: center;}#sk-container-id-1 label.sk-toggleable__label-arrow:before {content: \"▸\";float: left;margin-right: 0.25em;color: #696969;}#sk-container-id-1 label.sk-toggleable__label-arrow:hover:before {color: black;}#sk-container-id-1 div.sk-estimator:hover label.sk-toggleable__label-arrow:before {color: black;}#sk-container-id-1 div.sk-toggleable__content {max-height: 0;max-width: 0;overflow: hidden;text-align: left;background-color: #f0f8ff;}#sk-container-id-1 div.sk-toggleable__content pre {margin: 0.2em;color: black;border-radius: 0.25em;background-color: #f0f8ff;}#sk-container-id-1 input.sk-toggleable__control:checked~div.sk-toggleable__content {max-height: 200px;max-width: 100%;overflow: auto;}#sk-container-id-1 input.sk-toggleable__control:checked~label.sk-toggleable__label-arrow:before {content: \"▾\";}#sk-container-id-1 div.sk-estimator input.sk-toggleable__control:checked~label.sk-toggleable__label {background-color: #d4ebff;}#sk-container-id-1 div.sk-label input.sk-toggleable__control:checked~label.sk-toggleable__label {background-color: #d4ebff;}#sk-container-id-1 input.sk-hidden--visually {border: 0;clip: rect(1px 1px 1px 1px);clip: rect(1px, 1px, 1px, 1px);height: 1px;margin: -1px;overflow: hidden;padding: 0;position: absolute;width: 1px;}#sk-container-id-1 div.sk-estimator {font-family: monospace;background-color: #f0f8ff;border: 1px dotted black;border-radius: 0.25em;box-sizing: border-box;margin-bottom: 0.5em;}#sk-container-id-1 div.sk-estimator:hover {background-color: #d4ebff;}#sk-container-id-1 div.sk-parallel-item::after {content: \"\";width: 100%;border-bottom: 1px solid gray;flex-grow: 1;}#sk-container-id-1 div.sk-label:hover label.sk-toggleable__label {background-color: #d4ebff;}#sk-container-id-1 div.sk-serial::before {content: \"\";position: absolute;border-left: 1px solid gray;box-sizing: border-box;top: 0;bottom: 0;left: 50%;z-index: 0;}#sk-container-id-1 div.sk-serial {display: flex;flex-direction: column;align-items: center;background-color: white;padding-right: 0.2em;padding-left: 0.2em;position: relative;}#sk-container-id-1 div.sk-item {position: relative;z-index: 1;}#sk-container-id-1 div.sk-parallel {display: flex;align-items: stretch;justify-content: center;background-color: white;position: relative;}#sk-container-id-1 div.sk-item::before, #sk-container-id-1 div.sk-parallel-item::before {content: \"\";position: absolute;border-left: 1px solid gray;box-sizing: border-box;top: 0;bottom: 0;left: 50%;z-index: -1;}#sk-container-id-1 div.sk-parallel-item {display: flex;flex-direction: column;z-index: 1;position: relative;background-color: white;}#sk-container-id-1 div.sk-parallel-item:first-child::after {align-self: flex-end;width: 50%;}#sk-container-id-1 div.sk-parallel-item:last-child::after {align-self: flex-start;width: 50%;}#sk-container-id-1 div.sk-parallel-item:only-child::after {width: 0;}#sk-container-id-1 div.sk-dashed-wrapped {border: 1px dashed gray;margin: 0 0.4em 0.5em 0.4em;box-sizing: border-box;padding-bottom: 0.4em;background-color: white;}#sk-container-id-1 div.sk-label label {font-family: monospace;font-weight: bold;display: inline-block;line-height: 1.2em;}#sk-container-id-1 div.sk-label-container {text-align: center;}#sk-container-id-1 div.sk-container {/* jupyter's `normalize.less` sets `[hidden] { display: none; }` but bootstrap.min.css set `[hidden] { display: none !important; }` so we also need the `!important` here to be able to override the default hidden behavior on the sphinx rendered scikit-learn.org. See: https://github.com/scikit-learn/scikit-learn/issues/21755 */display: inline-block !important;position: relative;}#sk-container-id-1 div.sk-text-repr-fallback {display: none;}</style><div id=\"sk-container-id-1\" class=\"sk-top-container\"><div class=\"sk-text-repr-fallback\"><pre>RandomForestRegressor()</pre><b>In a Jupyter environment, please rerun this cell to show the HTML representation or trust the notebook. <br />On GitHub, the HTML representation is unable to render, please try loading this page with nbviewer.org.</b></div><div class=\"sk-container\" hidden><div class=\"sk-item\"><div class=\"sk-estimator sk-toggleable\"><input class=\"sk-toggleable__control sk-hidden--visually\" id=\"sk-estimator-id-1\" type=\"checkbox\" checked><label for=\"sk-estimator-id-1\" class=\"sk-toggleable__label sk-toggleable__label-arrow\">RandomForestRegressor</label><div class=\"sk-toggleable__content\"><pre>RandomForestRegressor()</pre></div></div></div></div></div>"
      ],
      "text/plain": [
       "RandomForestRegressor()"
      ]
     },
     "execution_count": 26,
     "metadata": {},
     "output_type": "execute_result"
    }
   ],
   "source": [
    "# Model Selection and Training\n",
    "model_lat = RandomForestRegressor()\n",
    "model_lat.fit(X_train, y_lat_train)\n",
    "\n",
    "model_lon = RandomForestRegressor()\n",
    "model_lon.fit(X_train, y_lon_train)"
   ]
  },
  {
   "cell_type": "code",
   "execution_count": 27,
   "id": "75a989b9",
   "metadata": {},
   "outputs": [
    {
     "name": "stdout",
     "output_type": "stream",
     "text": [
      "Latitude RMSE: 0.035844013391631055\n",
      "Longitude RMSE: 0.05092007337037105\n"
     ]
    }
   ],
   "source": [
    "# Model Evaluation\n",
    "y_lat_pred = model_lat.predict(X_test)\n",
    "y_lon_pred = model_lon.predict(X_test)\n",
    "\n",
    "mse_lat = mean_squared_error(y_lat_test, y_lat_pred)\n",
    "mse_lon = mean_squared_error(y_lon_test, y_lon_pred)\n",
    "\n",
    "rmse_lat = mean_squared_error(y_lat_test, y_lat_pred, squared=False)\n",
    "rmse_lon = mean_squared_error(y_lon_test, y_lon_pred, squared=False)\n",
    "\n",
    "print('Latitude RMSE:', rmse_lat)\n",
    "print('Longitude RMSE:', rmse_lon)"
   ]
  },
  {
   "cell_type": "code",
   "execution_count": 28,
   "id": "509355b7",
   "metadata": {},
   "outputs": [
    {
     "name": "stdout",
     "output_type": "stream",
     "text": [
      "Weekday: 0\n",
      "Hour: 1\n",
      "Predicted Latitude: 40.733712068785316\n",
      "Predicted Longitude: -73.97391767505452\n"
     ]
    }
   ],
   "source": [
    "# Make Predictions\n",
    "new_datetime = datetime(2023, 8, 21, 1, 30)  # Example new date/time input\n",
    "new_weekday = new_datetime.weekday()\n",
    "print('Weekday:', new_weekday)\n",
    "new_hour = new_datetime.hour\n",
    "print('Hour:', new_hour)\n",
    "\n",
    "new_X = pd.DataFrame({'weekday': [new_weekday], 'hour': [new_hour]})\n",
    "predicted_lat = model_lat.predict(new_X)\n",
    "predicted_lon = model_lon.predict(new_X)\n",
    "\n",
    "print('Predicted Latitude:', predicted_lat[0])\n",
    "print('Predicted Longitude:', predicted_lon[0])"
   ]
  },
  {
   "cell_type": "code",
   "execution_count": 29,
   "id": "d5e10867",
   "metadata": {},
   "outputs": [
    {
     "data": {
      "text/plain": [
       "['/GitHub/NEXTTRIP/flask_LocationModel/models/lon_model.pkl']"
      ]
     },
     "execution_count": 29,
     "metadata": {},
     "output_type": "execute_result"
    }
   ],
   "source": [
    "# Persist the model\n",
    "joblib.dump(model_lat, '/GitHub/NEXTTRIP/flask_LocationModel/models/lat_model.pkl')\n",
    "joblib.dump(model_lon, '/GitHub/NEXTTRIP/flask_LocationModel/models/lon_model.pkl')"
   ]
  },
  {
   "cell_type": "code",
   "execution_count": 30,
   "id": "994d8ea5",
   "metadata": {},
   "outputs": [
    {
     "data": {
      "text/plain": [
       "['/GitHub/NEXTTRIP/flask_LocationModel/models/rnd_columns.pkl']"
      ]
     },
     "execution_count": 30,
     "metadata": {},
     "output_type": "execute_result"
    }
   ],
   "source": [
    "#Save model columns\n",
    "rnd_columns = list(X_train.columns)\n",
    "joblib.dump(rnd_columns, '/GitHub/NEXTTRIP/flask_LocationModel/models/rnd_columns.pkl')"
   ]
  }
 ],
 "metadata": {
  "kernelspec": {
   "display_name": "jupyterenv_nexttrip",
   "language": "python",
   "name": "jupyterenv_nexttrip"
  },
  "language_info": {
   "codemirror_mode": {
    "name": "ipython",
    "version": 3
   },
   "file_extension": ".py",
   "mimetype": "text/x-python",
   "name": "python",
   "nbconvert_exporter": "python",
   "pygments_lexer": "ipython3",
   "version": "3.10.0"
  }
 },
 "nbformat": 4,
 "nbformat_minor": 5
}
