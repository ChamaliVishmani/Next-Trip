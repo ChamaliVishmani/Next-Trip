{
 "cells": [
  {
   "cell_type": "code",
   "execution_count": 1,
   "id": "d1785035",
   "metadata": {},
   "outputs": [],
   "source": [
    "# Imports\n",
    "# import geopandas as gpd\n",
    "import pandas as pd\n",
    "import matplotlib.pyplot as plt"
   ]
  },
  {
   "cell_type": "code",
   "execution_count": 2,
   "id": "b259c07d",
   "metadata": {},
   "outputs": [],
   "source": [
    "# map_data = gpd.read_file('/GitHub/NEXTTRIP/flask_LocationModel/data/uber-raw-data-apr14.csv')"
   ]
  },
  {
   "cell_type": "code",
   "execution_count": 3,
   "id": "6c212513",
   "metadata": {},
   "outputs": [],
   "source": [
    "# Load the dataset\n",
    "data = pd.read_csv('/GitHub/NEXTTRIP/flask_LocationModel/data/uber-raw-data-apr14.csv')"
   ]
  },
  {
   "cell_type": "code",
   "execution_count": 4,
   "id": "3f1106f0",
   "metadata": {},
   "outputs": [
    {
     "data": {
      "text/html": [
       "<div>\n",
       "<style scoped>\n",
       "    .dataframe tbody tr th:only-of-type {\n",
       "        vertical-align: middle;\n",
       "    }\n",
       "\n",
       "    .dataframe tbody tr th {\n",
       "        vertical-align: top;\n",
       "    }\n",
       "\n",
       "    .dataframe thead th {\n",
       "        text-align: right;\n",
       "    }\n",
       "</style>\n",
       "<table border=\"1\" class=\"dataframe\">\n",
       "  <thead>\n",
       "    <tr style=\"text-align: right;\">\n",
       "      <th></th>\n",
       "      <th>Date/Time</th>\n",
       "      <th>Lat</th>\n",
       "      <th>Lon</th>\n",
       "      <th>Base</th>\n",
       "    </tr>\n",
       "  </thead>\n",
       "  <tbody>\n",
       "    <tr>\n",
       "      <th>0</th>\n",
       "      <td>4/1/2014 0:11:00</td>\n",
       "      <td>40.7690</td>\n",
       "      <td>-73.9549</td>\n",
       "      <td>B02512</td>\n",
       "    </tr>\n",
       "    <tr>\n",
       "      <th>1</th>\n",
       "      <td>4/1/2014 0:17:00</td>\n",
       "      <td>40.7267</td>\n",
       "      <td>-74.0345</td>\n",
       "      <td>B02512</td>\n",
       "    </tr>\n",
       "    <tr>\n",
       "      <th>2</th>\n",
       "      <td>4/1/2014 0:21:00</td>\n",
       "      <td>40.7316</td>\n",
       "      <td>-73.9873</td>\n",
       "      <td>B02512</td>\n",
       "    </tr>\n",
       "    <tr>\n",
       "      <th>3</th>\n",
       "      <td>4/1/2014 0:28:00</td>\n",
       "      <td>40.7588</td>\n",
       "      <td>-73.9776</td>\n",
       "      <td>B02512</td>\n",
       "    </tr>\n",
       "    <tr>\n",
       "      <th>4</th>\n",
       "      <td>4/1/2014 0:33:00</td>\n",
       "      <td>40.7594</td>\n",
       "      <td>-73.9722</td>\n",
       "      <td>B02512</td>\n",
       "    </tr>\n",
       "  </tbody>\n",
       "</table>\n",
       "</div>"
      ],
      "text/plain": [
       "          Date/Time      Lat      Lon    Base\n",
       "0  4/1/2014 0:11:00  40.7690 -73.9549  B02512\n",
       "1  4/1/2014 0:17:00  40.7267 -74.0345  B02512\n",
       "2  4/1/2014 0:21:00  40.7316 -73.9873  B02512\n",
       "3  4/1/2014 0:28:00  40.7588 -73.9776  B02512\n",
       "4  4/1/2014 0:33:00  40.7594 -73.9722  B02512"
      ]
     },
     "execution_count": 4,
     "metadata": {},
     "output_type": "execute_result"
    }
   ],
   "source": [
    "data.head()"
   ]
  },
  {
   "cell_type": "code",
   "execution_count": 5,
   "id": "908dc200",
   "metadata": {},
   "outputs": [],
   "source": [
    "df = pd.DataFrame(data)"
   ]
  },
  {
   "cell_type": "code",
   "execution_count": 6,
   "id": "32f02694",
   "metadata": {},
   "outputs": [],
   "source": [
    "# Step 2: Preprocess the data\n",
    "data['Date/Time'] = pd.to_datetime(data['Date/Time'])"
   ]
  },
  {
   "cell_type": "code",
   "execution_count": 7,
   "id": "21f6fd35",
   "metadata": {},
   "outputs": [],
   "source": [
    "# Step 3: Feature Engineering\n",
    "data['weekday'] = data['Date/Time'].dt.weekday\n",
    "data['hour'] = data['Date/Time'].dt.hour"
   ]
  },
  {
   "cell_type": "code",
   "execution_count": 8,
   "id": "e878e1ea",
   "metadata": {},
   "outputs": [
    {
     "data": {
      "text/html": [
       "<div>\n",
       "<style scoped>\n",
       "    .dataframe tbody tr th:only-of-type {\n",
       "        vertical-align: middle;\n",
       "    }\n",
       "\n",
       "    .dataframe tbody tr th {\n",
       "        vertical-align: top;\n",
       "    }\n",
       "\n",
       "    .dataframe thead th {\n",
       "        text-align: right;\n",
       "    }\n",
       "</style>\n",
       "<table border=\"1\" class=\"dataframe\">\n",
       "  <thead>\n",
       "    <tr style=\"text-align: right;\">\n",
       "      <th></th>\n",
       "      <th>Date/Time</th>\n",
       "      <th>Lat</th>\n",
       "      <th>Lon</th>\n",
       "      <th>Base</th>\n",
       "      <th>weekday</th>\n",
       "      <th>hour</th>\n",
       "    </tr>\n",
       "  </thead>\n",
       "  <tbody>\n",
       "    <tr>\n",
       "      <th>0</th>\n",
       "      <td>2014-04-01 00:11:00</td>\n",
       "      <td>40.7690</td>\n",
       "      <td>-73.9549</td>\n",
       "      <td>B02512</td>\n",
       "      <td>1</td>\n",
       "      <td>0</td>\n",
       "    </tr>\n",
       "    <tr>\n",
       "      <th>1</th>\n",
       "      <td>2014-04-01 00:17:00</td>\n",
       "      <td>40.7267</td>\n",
       "      <td>-74.0345</td>\n",
       "      <td>B02512</td>\n",
       "      <td>1</td>\n",
       "      <td>0</td>\n",
       "    </tr>\n",
       "    <tr>\n",
       "      <th>2</th>\n",
       "      <td>2014-04-01 00:21:00</td>\n",
       "      <td>40.7316</td>\n",
       "      <td>-73.9873</td>\n",
       "      <td>B02512</td>\n",
       "      <td>1</td>\n",
       "      <td>0</td>\n",
       "    </tr>\n",
       "    <tr>\n",
       "      <th>3</th>\n",
       "      <td>2014-04-01 00:28:00</td>\n",
       "      <td>40.7588</td>\n",
       "      <td>-73.9776</td>\n",
       "      <td>B02512</td>\n",
       "      <td>1</td>\n",
       "      <td>0</td>\n",
       "    </tr>\n",
       "    <tr>\n",
       "      <th>4</th>\n",
       "      <td>2014-04-01 00:33:00</td>\n",
       "      <td>40.7594</td>\n",
       "      <td>-73.9722</td>\n",
       "      <td>B02512</td>\n",
       "      <td>1</td>\n",
       "      <td>0</td>\n",
       "    </tr>\n",
       "  </tbody>\n",
       "</table>\n",
       "</div>"
      ],
      "text/plain": [
       "            Date/Time      Lat      Lon    Base  weekday  hour\n",
       "0 2014-04-01 00:11:00  40.7690 -73.9549  B02512        1     0\n",
       "1 2014-04-01 00:17:00  40.7267 -74.0345  B02512        1     0\n",
       "2 2014-04-01 00:21:00  40.7316 -73.9873  B02512        1     0\n",
       "3 2014-04-01 00:28:00  40.7588 -73.9776  B02512        1     0\n",
       "4 2014-04-01 00:33:00  40.7594 -73.9722  B02512        1     0"
      ]
     },
     "execution_count": 8,
     "metadata": {},
     "output_type": "execute_result"
    }
   ],
   "source": [
    "data.head()"
   ]
  },
  {
   "cell_type": "code",
   "execution_count": 9,
   "id": "d989ee52",
   "metadata": {},
   "outputs": [
    {
     "data": {
      "image/png": "[encoded data removed]",
      "text/plain": [
       "<Figure size 800x600 with 1 Axes>"
      ]
     },
     "metadata": {},
     "output_type": "display_data"
    }
   ],
   "source": [
    "# Plot a histogram of rides by weekday\n",
    "plt.figure(figsize=(8, 6))\n",
    "df['weekday'].plot(kind='hist', rwidth=0.8, bins=7, alpha=0.7)\n",
    "plt.title('Distribution of Rides by Weekday')\n",
    "plt.xlabel('Weekday (1=Monday, 7=Sunday)')\n",
    "plt.ylabel('Number of Rides')\n",
    "plt.xticks(range(1, 8), ['Mon', 'Tue', 'Wed', 'Thu', 'Fri', 'Sat', 'Sun'])\n",
    "plt.grid(axis='y', linestyle='--', alpha=0.7)\n",
    "plt.show()"
   ]
  },
  {
   "cell_type": "code",
   "execution_count": 10,
   "id": "571c9a81",
   "metadata": {},
   "outputs": [
    {
     "data": {
      "image/png": "[encoded data removed]",
      "text/plain": [
       "<Figure size 800x600 with 1 Axes>"
      ]
     },
     "metadata": {},
     "output_type": "display_data"
    }
   ],
   "source": [
    "# Plot a histogram of rides by hour\n",
    "plt.figure(figsize=(8, 6))\n",
    "df['hour'].plot(kind='hist', rwidth=0.8, bins=24, alpha=0.7)\n",
    "plt.title('Distribution of Rides by Hour')\n",
    "plt.xlabel('Hour of the Day')\n",
    "plt.ylabel('Number of Rides')\n",
    "plt.grid(axis='y', linestyle='--', alpha=0.7)\n",
    "plt.show()"
   ]
  },
  {
   "cell_type": "code",
   "execution_count": 16,
   "id": "8af3d838",
   "metadata": {},
   "outputs": [
    {
     "data": {
      "text/html": [
       "<div>\n",
       "<style scoped>\n",
       "    .dataframe tbody tr th:only-of-type {\n",
       "        vertical-align: middle;\n",
       "    }\n",
       "\n",
       "    .dataframe tbody tr th {\n",
       "        vertical-align: top;\n",
       "    }\n",
       "\n",
       "    .dataframe thead th {\n",
       "        text-align: right;\n",
       "    }\n",
       "</style>\n",
       "<table border=\"1\" class=\"dataframe\">\n",
       "  <thead>\n",
       "    <tr style=\"text-align: right;\">\n",
       "      <th></th>\n",
       "      <th>Date/Time</th>\n",
       "      <th>Lat</th>\n",
       "      <th>Lon</th>\n",
       "      <th>Base</th>\n",
       "      <th>weekday</th>\n",
       "      <th>hour</th>\n",
       "    </tr>\n",
       "  </thead>\n",
       "  <tbody>\n",
       "    <tr>\n",
       "      <th>0</th>\n",
       "      <td>2014-04-01 00:11:00</td>\n",
       "      <td>40.7690</td>\n",
       "      <td>-73.9549</td>\n",
       "      <td>B02512</td>\n",
       "      <td>1</td>\n",
       "      <td>0</td>\n",
       "    </tr>\n",
       "    <tr>\n",
       "      <th>1</th>\n",
       "      <td>2014-04-01 00:17:00</td>\n",
       "      <td>40.7267</td>\n",
       "      <td>-74.0345</td>\n",
       "      <td>B02512</td>\n",
       "      <td>1</td>\n",
       "      <td>0</td>\n",
       "    </tr>\n",
       "    <tr>\n",
       "      <th>2</th>\n",
       "      <td>2014-04-01 00:21:00</td>\n",
       "      <td>40.7316</td>\n",
       "      <td>-73.9873</td>\n",
       "      <td>B02512</td>\n",
       "      <td>1</td>\n",
       "      <td>0</td>\n",
       "    </tr>\n",
       "    <tr>\n",
       "      <th>3</th>\n",
       "      <td>2014-04-01 00:28:00</td>\n",
       "      <td>40.7588</td>\n",
       "      <td>-73.9776</td>\n",
       "      <td>B02512</td>\n",
       "      <td>1</td>\n",
       "      <td>0</td>\n",
       "    </tr>\n",
       "    <tr>\n",
       "      <th>4</th>\n",
       "      <td>2014-04-01 00:33:00</td>\n",
       "      <td>40.7594</td>\n",
       "      <td>-73.9722</td>\n",
       "      <td>B02512</td>\n",
       "      <td>1</td>\n",
       "      <td>0</td>\n",
       "    </tr>\n",
       "  </tbody>\n",
       "</table>\n",
       "</div>"
      ],
      "text/plain": [
       "            Date/Time      Lat      Lon    Base  weekday  hour\n",
       "0 2014-04-01 00:11:00  40.7690 -73.9549  B02512        1     0\n",
       "1 2014-04-01 00:17:00  40.7267 -74.0345  B02512        1     0\n",
       "2 2014-04-01 00:21:00  40.7316 -73.9873  B02512        1     0\n",
       "3 2014-04-01 00:28:00  40.7588 -73.9776  B02512        1     0\n",
       "4 2014-04-01 00:33:00  40.7594 -73.9722  B02512        1     0"
      ]
     },
     "execution_count": 16,
     "metadata": {},
     "output_type": "execute_result"
    }
   ],
   "source": [
    "data.head()"
   ]
  },
  {
   "cell_type": "code",
   "execution_count": 18,
   "id": "c032e09c",
   "metadata": {},
   "outputs": [],
   "source": [
    "#  aggregating the data to count how many times each combination of latitude, longitude, weekday, and hour appears.\n",
    "heatmap_data=df.groupby(['Lat','Lon','weekday','hour']).size().reset_index(name='weight')"
   ]
  },
  {
   "cell_type": "code",
   "execution_count": 22,
   "id": "b7cad968",
   "metadata": {},
   "outputs": [
    {
     "data": {
      "text/html": [
       "<div>\n",
       "<style scoped>\n",
       "    .dataframe tbody tr th:only-of-type {\n",
       "        vertical-align: middle;\n",
       "    }\n",
       "\n",
       "    .dataframe tbody tr th {\n",
       "        vertical-align: top;\n",
       "    }\n",
       "\n",
       "    .dataframe thead th {\n",
       "        text-align: right;\n",
       "    }\n",
       "</style>\n",
       "<table border=\"1\" class=\"dataframe\">\n",
       "  <thead>\n",
       "    <tr style=\"text-align: right;\">\n",
       "      <th></th>\n",
       "      <th>Lat</th>\n",
       "      <th>Lon</th>\n",
       "      <th>weekday</th>\n",
       "      <th>hour</th>\n",
       "      <th>weight</th>\n",
       "    </tr>\n",
       "  </thead>\n",
       "  <tbody>\n",
       "    <tr>\n",
       "      <th>0</th>\n",
       "      <td>40.0729</td>\n",
       "      <td>-74.1638</td>\n",
       "      <td>1</td>\n",
       "      <td>14</td>\n",
       "      <td>1</td>\n",
       "    </tr>\n",
       "    <tr>\n",
       "      <th>1</th>\n",
       "      <td>40.1918</td>\n",
       "      <td>-74.6036</td>\n",
       "      <td>0</td>\n",
       "      <td>10</td>\n",
       "      <td>1</td>\n",
       "    </tr>\n",
       "    <tr>\n",
       "      <th>2</th>\n",
       "      <td>40.2026</td>\n",
       "      <td>-74.1224</td>\n",
       "      <td>2</td>\n",
       "      <td>16</td>\n",
       "      <td>1</td>\n",
       "    </tr>\n",
       "    <tr>\n",
       "      <th>3</th>\n",
       "      <td>40.2168</td>\n",
       "      <td>-74.5670</td>\n",
       "      <td>0</td>\n",
       "      <td>18</td>\n",
       "      <td>1</td>\n",
       "    </tr>\n",
       "    <tr>\n",
       "      <th>4</th>\n",
       "      <td>40.2259</td>\n",
       "      <td>-74.6235</td>\n",
       "      <td>2</td>\n",
       "      <td>21</td>\n",
       "      <td>1</td>\n",
       "    </tr>\n",
       "    <tr>\n",
       "      <th>...</th>\n",
       "      <td>...</td>\n",
       "      <td>...</td>\n",
       "      <td>...</td>\n",
       "      <td>...</td>\n",
       "      <td>...</td>\n",
       "    </tr>\n",
       "    <tr>\n",
       "      <th>521103</th>\n",
       "      <td>41.3730</td>\n",
       "      <td>-72.9237</td>\n",
       "      <td>0</td>\n",
       "      <td>5</td>\n",
       "      <td>1</td>\n",
       "    </tr>\n",
       "    <tr>\n",
       "      <th>521104</th>\n",
       "      <td>41.3737</td>\n",
       "      <td>-73.7988</td>\n",
       "      <td>1</td>\n",
       "      <td>16</td>\n",
       "      <td>1</td>\n",
       "    </tr>\n",
       "    <tr>\n",
       "      <th>521105</th>\n",
       "      <td>41.5016</td>\n",
       "      <td>-72.8987</td>\n",
       "      <td>4</td>\n",
       "      <td>14</td>\n",
       "      <td>1</td>\n",
       "    </tr>\n",
       "    <tr>\n",
       "      <th>521106</th>\n",
       "      <td>41.5276</td>\n",
       "      <td>-72.7734</td>\n",
       "      <td>4</td>\n",
       "      <td>10</td>\n",
       "      <td>2</td>\n",
       "    </tr>\n",
       "    <tr>\n",
       "      <th>521107</th>\n",
       "      <td>42.1166</td>\n",
       "      <td>-72.0666</td>\n",
       "      <td>6</td>\n",
       "      <td>8</td>\n",
       "      <td>1</td>\n",
       "    </tr>\n",
       "  </tbody>\n",
       "</table>\n",
       "<p>521108 rows × 5 columns</p>\n",
       "</div>"
      ],
      "text/plain": [
       "            Lat      Lon  weekday  hour  weight\n",
       "0       40.0729 -74.1638        1    14       1\n",
       "1       40.1918 -74.6036        0    10       1\n",
       "2       40.2026 -74.1224        2    16       1\n",
       "3       40.2168 -74.5670        0    18       1\n",
       "4       40.2259 -74.6235        2    21       1\n",
       "...         ...      ...      ...   ...     ...\n",
       "521103  41.3730 -72.9237        0     5       1\n",
       "521104  41.3737 -73.7988        1    16       1\n",
       "521105  41.5016 -72.8987        4    14       1\n",
       "521106  41.5276 -72.7734        4    10       2\n",
       "521107  42.1166 -72.0666        6     8       1\n",
       "\n",
       "[521108 rows x 5 columns]"
      ]
     },
     "execution_count": 22,
     "metadata": {},
     "output_type": "execute_result"
    }
   ],
   "source": [
    "heatmap_data"
   ]
  },
  {
   "cell_type": "code",
   "execution_count": 25,
   "id": "42d5d45e",
   "metadata": {},
   "outputs": [],
   "source": [
    "csv_filepath = '/GitHub/NEXTTRIP/flask_LocationModel/data/heatmap_data.csv'\n",
    "heatmap_data.to_csv(csv_filepath, index=False)"
   ]
  },
  {
   "cell_type": "code",
   "execution_count": 11,
   "id": "8c06eb95",
   "metadata": {},
   "outputs": [],
   "source": [
    "import folium"
   ]
  },
  {
   "cell_type": "code",
   "execution_count": 12,
   "id": "8832dae6",
   "metadata": {},
   "outputs": [],
   "source": [
    "# Initialize a map centered around a location (e.g., New York City)\n",
    "map_center = [40.7128, -74.0060]  # Latitude and longitude of NYC"
   ]
  },
  {
   "cell_type": "code",
   "execution_count": 13,
   "id": "1d1a9dfa",
   "metadata": {},
   "outputs": [],
   "source": [
    "# Create a Folium map\n",
    "m = folium.Map(location=map_center, zoom_start=12)"
   ]
  },
  {
   "cell_type": "code",
   "execution_count": 14,
   "id": "7e9d8eda",
   "metadata": {},
   "outputs": [],
   "source": [
    "# Add markers for each ride location\n",
    "for index, row in df.iterrows():\n",
    "    lat, lon = row['Lat'], row['Lon']\n",
    "    popup_text = f\"Date/Time: {row['Date/Time']}<br>Base: {row['Base']}\"\n",
    "    folium.Marker([lat, lon], popup=popup_text).add_to(m)"
   ]
  },
  {
   "cell_type": "code",
   "execution_count": 15,
   "id": "f0824c3e",
   "metadata": {},
   "outputs": [
    {
     "ename": "KeyboardInterrupt",
     "evalue": "",
     "output_type": "error",
     "traceback": [
      "\u001b[1;31m---------------------------------------------------------------------------\u001b[0m",
      "\u001b[1;31mKeyboardInterrupt\u001b[0m                         Traceback (most recent call last)",
      "\u001b[1;32md:\\GitHub\\NextTrip\\flask_LocationModel\\notebooks\\Maps_Model.ipynb Cell 15\u001b[0m line \u001b[0;36m2\n\u001b[0;32m      <a href='vscode-notebook-cell:/d%3A/GitHub/NextTrip/flask_LocationModel/notebooks/Maps_Model.ipynb#X20sZmlsZQ%3D%3D?line=0'>1</a>\u001b[0m \u001b[39m# Display the map\u001b[39;00m\n\u001b[1;32m----> <a href='vscode-notebook-cell:/d%3A/GitHub/NextTrip/flask_LocationModel/notebooks/Maps_Model.ipynb#X20sZmlsZQ%3D%3D?line=1'>2</a>\u001b[0m m\u001b[39m.\u001b[39;49msave(\u001b[39m'\u001b[39;49m\u001b[39mride_locations.png\u001b[39;49m\u001b[39m'\u001b[39;49m)  \u001b[39m# Save the map to an HTML file\u001b[39;00m\n",
      "File \u001b[1;32md:\\GitHub\\NextTrip\\flask_LocationModel\\env\\lib\\site-packages\\branca\\element.py:184\u001b[0m, in \u001b[0;36mElement.save\u001b[1;34m(self, outfile, close_file, **kwargs)\u001b[0m\n\u001b[0;32m    181\u001b[0m     fid \u001b[39m=\u001b[39m outfile\n\u001b[0;32m    183\u001b[0m root \u001b[39m=\u001b[39m \u001b[39mself\u001b[39m\u001b[39m.\u001b[39mget_root()\n\u001b[1;32m--> 184\u001b[0m html \u001b[39m=\u001b[39m root\u001b[39m.\u001b[39mrender(\u001b[39m*\u001b[39m\u001b[39m*\u001b[39mkwargs)\n\u001b[0;32m    185\u001b[0m fid\u001b[39m.\u001b[39mwrite(html\u001b[39m.\u001b[39mencode(\u001b[39m'\u001b[39m\u001b[39mutf8\u001b[39m\u001b[39m'\u001b[39m))\n\u001b[0;32m    186\u001b[0m \u001b[39mif\u001b[39;00m close_file:\n",
      "File \u001b[1;32md:\\GitHub\\NextTrip\\flask_LocationModel\\env\\lib\\site-packages\\branca\\element.py:338\u001b[0m, in \u001b[0;36mFigure.render\u001b[1;34m(self, **kwargs)\u001b[0m\n\u001b[0;32m    336\u001b[0m \u001b[39m\u001b[39m\u001b[39m\"\"\"Renders the HTML representation of the element.\"\"\"\u001b[39;00m\n\u001b[0;32m    337\u001b[0m \u001b[39mfor\u001b[39;00m name, child \u001b[39min\u001b[39;00m \u001b[39mself\u001b[39m\u001b[39m.\u001b[39m_children\u001b[39m.\u001b[39mitems():\n\u001b[1;32m--> 338\u001b[0m     child\u001b[39m.\u001b[39mrender(\u001b[39m*\u001b[39m\u001b[39m*\u001b[39mkwargs)\n\u001b[0;32m    339\u001b[0m \u001b[39mreturn\u001b[39;00m \u001b[39mself\u001b[39m\u001b[39m.\u001b[39m_template\u001b[39m.\u001b[39mrender(this\u001b[39m=\u001b[39m\u001b[39mself\u001b[39m, kwargs\u001b[39m=\u001b[39mkwargs)\n",
      "File \u001b[1;32md:\\GitHub\\NextTrip\\flask_LocationModel\\env\\lib\\site-packages\\folium\\folium.py:401\u001b[0m, in \u001b[0;36mMap.render\u001b[1;34m(self, **kwargs)\u001b[0m\n\u001b[0;32m    374\u001b[0m figure\u001b[39m.\u001b[39mheader\u001b[39m.\u001b[39madd_child(\n\u001b[0;32m    375\u001b[0m     Element(\n\u001b[0;32m    376\u001b[0m         \u001b[39m\"\u001b[39m\u001b[39m<style>html, body \u001b[39m\u001b[39m{\u001b[39m\u001b[39m\"\u001b[39m\n\u001b[1;32m   (...)\u001b[0m\n\u001b[0;32m    384\u001b[0m     name\u001b[39m=\u001b[39m\u001b[39m\"\u001b[39m\u001b[39mcss_style\u001b[39m\u001b[39m\"\u001b[39m,\n\u001b[0;32m    385\u001b[0m )\n\u001b[0;32m    387\u001b[0m figure\u001b[39m.\u001b[39mheader\u001b[39m.\u001b[39madd_child(\n\u001b[0;32m    388\u001b[0m     Element(\n\u001b[0;32m    389\u001b[0m         \u001b[39m\"\u001b[39m\u001b[39m<style>#map \u001b[39m\u001b[39m{\u001b[39m\u001b[39m\"\u001b[39m\n\u001b[1;32m   (...)\u001b[0m\n\u001b[0;32m    398\u001b[0m     name\u001b[39m=\u001b[39m\u001b[39m\"\u001b[39m\u001b[39mmap_style\u001b[39m\u001b[39m\"\u001b[39m,\n\u001b[0;32m    399\u001b[0m )\n\u001b[1;32m--> 401\u001b[0m \u001b[39msuper\u001b[39m()\u001b[39m.\u001b[39mrender(\u001b[39m*\u001b[39m\u001b[39m*\u001b[39mkwargs)\n",
      "File \u001b[1;32md:\\GitHub\\NextTrip\\flask_LocationModel\\env\\lib\\site-packages\\folium\\elements.py:22\u001b[0m, in \u001b[0;36mJSCSSMixin.render\u001b[1;34m(self, **kwargs)\u001b[0m\n\u001b[0;32m     19\u001b[0m \u001b[39mfor\u001b[39;00m name, url \u001b[39min\u001b[39;00m \u001b[39mself\u001b[39m\u001b[39m.\u001b[39mdefault_css:\n\u001b[0;32m     20\u001b[0m     figure\u001b[39m.\u001b[39mheader\u001b[39m.\u001b[39madd_child(CssLink(url), name\u001b[39m=\u001b[39mname)\n\u001b[1;32m---> 22\u001b[0m \u001b[39msuper\u001b[39m()\u001b[39m.\u001b[39mrender(\u001b[39m*\u001b[39m\u001b[39m*\u001b[39mkwargs)\n",
      "File \u001b[1;32md:\\GitHub\\NextTrip\\flask_LocationModel\\env\\lib\\site-packages\\branca\\element.py:645\u001b[0m, in \u001b[0;36mMacroElement.render\u001b[1;34m(self, **kwargs)\u001b[0m\n\u001b[0;32m    641\u001b[0m     figure\u001b[39m.\u001b[39mscript\u001b[39m.\u001b[39madd_child(Element(script(\u001b[39mself\u001b[39m, kwargs)),\n\u001b[0;32m    642\u001b[0m                             name\u001b[39m=\u001b[39m\u001b[39mself\u001b[39m\u001b[39m.\u001b[39mget_name())\n\u001b[0;32m    644\u001b[0m \u001b[39mfor\u001b[39;00m name, element \u001b[39min\u001b[39;00m \u001b[39mself\u001b[39m\u001b[39m.\u001b[39m_children\u001b[39m.\u001b[39mitems():\n\u001b[1;32m--> 645\u001b[0m     element\u001b[39m.\u001b[39mrender(\u001b[39m*\u001b[39m\u001b[39m*\u001b[39mkwargs)\n",
      "File \u001b[1;32md:\\GitHub\\NextTrip\\flask_LocationModel\\env\\lib\\site-packages\\folium\\map.py:354\u001b[0m, in \u001b[0;36mMarker.render\u001b[1;34m(self)\u001b[0m\n\u001b[0;32m    348\u001b[0m \u001b[39mif\u001b[39;00m \u001b[39mself\u001b[39m\u001b[39m.\u001b[39mlocation \u001b[39mis\u001b[39;00m \u001b[39mNone\u001b[39;00m:\n\u001b[0;32m    349\u001b[0m     \u001b[39mraise\u001b[39;00m \u001b[39mValueError\u001b[39;00m(\n\u001b[0;32m    350\u001b[0m         \u001b[39m\"\u001b[39m\u001b[39m{}\u001b[39;00m\u001b[39m location must be assigned when added directly to map.\u001b[39m\u001b[39m\"\u001b[39m\u001b[39m.\u001b[39mformat(\n\u001b[0;32m    351\u001b[0m             \u001b[39mself\u001b[39m\u001b[39m.\u001b[39m_name\n\u001b[0;32m    352\u001b[0m         )\n\u001b[0;32m    353\u001b[0m     )\n\u001b[1;32m--> 354\u001b[0m \u001b[39msuper\u001b[39;49m()\u001b[39m.\u001b[39;49mrender()\n",
      "File \u001b[1;32md:\\GitHub\\NextTrip\\flask_LocationModel\\env\\lib\\site-packages\\branca\\element.py:645\u001b[0m, in \u001b[0;36mMacroElement.render\u001b[1;34m(self, **kwargs)\u001b[0m\n\u001b[0;32m    641\u001b[0m     figure\u001b[39m.\u001b[39mscript\u001b[39m.\u001b[39madd_child(Element(script(\u001b[39mself\u001b[39m, kwargs)),\n\u001b[0;32m    642\u001b[0m                             name\u001b[39m=\u001b[39m\u001b[39mself\u001b[39m\u001b[39m.\u001b[39mget_name())\n\u001b[0;32m    644\u001b[0m \u001b[39mfor\u001b[39;00m name, element \u001b[39min\u001b[39;00m \u001b[39mself\u001b[39m\u001b[39m.\u001b[39m_children\u001b[39m.\u001b[39mitems():\n\u001b[1;32m--> 645\u001b[0m     element\u001b[39m.\u001b[39mrender(\u001b[39m*\u001b[39m\u001b[39m*\u001b[39mkwargs)\n",
      "File \u001b[1;32md:\\GitHub\\NextTrip\\flask_LocationModel\\env\\lib\\site-packages\\folium\\map.py:448\u001b[0m, in \u001b[0;36mPopup.render\u001b[1;34m(self, **kwargs)\u001b[0m\n\u001b[0;32m    442\u001b[0m figure \u001b[39m=\u001b[39m \u001b[39mself\u001b[39m\u001b[39m.\u001b[39mget_root()\n\u001b[0;32m    443\u001b[0m \u001b[39massert\u001b[39;00m \u001b[39misinstance\u001b[39m(\n\u001b[0;32m    444\u001b[0m     figure, Figure\n\u001b[0;32m    445\u001b[0m ), \u001b[39m\"\u001b[39m\u001b[39mYou cannot render this Element if it is not in a Figure.\u001b[39m\u001b[39m\"\u001b[39m\n\u001b[0;32m    447\u001b[0m figure\u001b[39m.\u001b[39mscript\u001b[39m.\u001b[39madd_child(\n\u001b[1;32m--> 448\u001b[0m     Element(\u001b[39mself\u001b[39;49m\u001b[39m.\u001b[39;49m_template\u001b[39m.\u001b[39;49mrender(this\u001b[39m=\u001b[39;49m\u001b[39mself\u001b[39;49m, kwargs\u001b[39m=\u001b[39;49mkwargs)),\n\u001b[0;32m    449\u001b[0m     name\u001b[39m=\u001b[39m\u001b[39mself\u001b[39m\u001b[39m.\u001b[39mget_name(),\n\u001b[0;32m    450\u001b[0m )\n",
      "File \u001b[1;32md:\\GitHub\\NextTrip\\flask_LocationModel\\env\\lib\\site-packages\\branca\\element.py:61\u001b[0m, in \u001b[0;36mElement.__init__\u001b[1;34m(self, template, template_name)\u001b[0m\n\u001b[0;32m     58\u001b[0m \u001b[39mself\u001b[39m\u001b[39m.\u001b[39m_parent \u001b[39m=\u001b[39m \u001b[39mNone\u001b[39;00m\n\u001b[0;32m     60\u001b[0m \u001b[39mif\u001b[39;00m template \u001b[39mis\u001b[39;00m \u001b[39mnot\u001b[39;00m \u001b[39mNone\u001b[39;00m:\n\u001b[1;32m---> 61\u001b[0m     \u001b[39mself\u001b[39m\u001b[39m.\u001b[39m_template \u001b[39m=\u001b[39m Template(template)\n\u001b[0;32m     62\u001b[0m \u001b[39melif\u001b[39;00m template_name \u001b[39mis\u001b[39;00m \u001b[39mnot\u001b[39;00m \u001b[39mNone\u001b[39;00m:\n\u001b[0;32m     63\u001b[0m     \u001b[39mself\u001b[39m\u001b[39m.\u001b[39m_template \u001b[39m=\u001b[39m ENV\u001b[39m.\u001b[39mget_template(template_name)\n",
      "File \u001b[1;32md:\\GitHub\\NextTrip\\flask_LocationModel\\env\\lib\\site-packages\\jinja2\\environment.py:1208\u001b[0m, in \u001b[0;36mTemplate.__new__\u001b[1;34m(cls, source, block_start_string, block_end_string, variable_start_string, variable_end_string, comment_start_string, comment_end_string, line_statement_prefix, line_comment_prefix, trim_blocks, lstrip_blocks, newline_sequence, keep_trailing_newline, extensions, optimized, undefined, finalize, autoescape, enable_async)\u001b[0m\n\u001b[0;32m   1161\u001b[0m \u001b[39mdef\u001b[39;00m \u001b[39m__new__\u001b[39m(\n\u001b[0;32m   1162\u001b[0m     \u001b[39mcls\u001b[39m,\n\u001b[0;32m   1163\u001b[0m     source: t\u001b[39m.\u001b[39mUnion[\u001b[39mstr\u001b[39m, nodes\u001b[39m.\u001b[39mTemplate],\n\u001b[1;32m   (...)\u001b[0m\n\u001b[0;32m   1181\u001b[0m     enable_async: \u001b[39mbool\u001b[39m \u001b[39m=\u001b[39m \u001b[39mFalse\u001b[39;00m,\n\u001b[0;32m   1182\u001b[0m ) \u001b[39m-\u001b[39m\u001b[39m>\u001b[39m t\u001b[39m.\u001b[39mAny:  \u001b[39m# it returns a `Template`, but this breaks the sphinx build...\u001b[39;00m\n\u001b[0;32m   1183\u001b[0m     env \u001b[39m=\u001b[39m get_spontaneous_environment(\n\u001b[0;32m   1184\u001b[0m         \u001b[39mcls\u001b[39m\u001b[39m.\u001b[39menvironment_class,  \u001b[39m# type: ignore\u001b[39;00m\n\u001b[0;32m   1185\u001b[0m         block_start_string,\n\u001b[1;32m   (...)\u001b[0m\n\u001b[0;32m   1206\u001b[0m         enable_async,\n\u001b[0;32m   1207\u001b[0m     )\n\u001b[1;32m-> 1208\u001b[0m     \u001b[39mreturn\u001b[39;00m env\u001b[39m.\u001b[39;49mfrom_string(source, template_class\u001b[39m=\u001b[39;49m\u001b[39mcls\u001b[39;49m)\n",
      "File \u001b[1;32md:\\GitHub\\NextTrip\\flask_LocationModel\\env\\lib\\site-packages\\jinja2\\environment.py:1105\u001b[0m, in \u001b[0;36mEnvironment.from_string\u001b[1;34m(self, source, globals, template_class)\u001b[0m\n\u001b[0;32m   1103\u001b[0m gs \u001b[39m=\u001b[39m \u001b[39mself\u001b[39m\u001b[39m.\u001b[39mmake_globals(\u001b[39mglobals\u001b[39m)\n\u001b[0;32m   1104\u001b[0m \u001b[39mcls\u001b[39m \u001b[39m=\u001b[39m template_class \u001b[39mor\u001b[39;00m \u001b[39mself\u001b[39m\u001b[39m.\u001b[39mtemplate_class\n\u001b[1;32m-> 1105\u001b[0m \u001b[39mreturn\u001b[39;00m \u001b[39mcls\u001b[39m\u001b[39m.\u001b[39mfrom_code(\u001b[39mself\u001b[39m, \u001b[39mself\u001b[39;49m\u001b[39m.\u001b[39;49mcompile(source), gs, \u001b[39mNone\u001b[39;00m)\n",
      "File \u001b[1;32md:\\GitHub\\NextTrip\\flask_LocationModel\\env\\lib\\site-packages\\jinja2\\environment.py:766\u001b[0m, in \u001b[0;36mEnvironment.compile\u001b[1;34m(self, source, name, filename, raw, defer_init)\u001b[0m\n\u001b[0;32m    764\u001b[0m     \u001b[39mif\u001b[39;00m filename \u001b[39mis\u001b[39;00m \u001b[39mNone\u001b[39;00m:\n\u001b[0;32m    765\u001b[0m         filename \u001b[39m=\u001b[39m \u001b[39m\"\u001b[39m\u001b[39m<template>\u001b[39m\u001b[39m\"\u001b[39m\n\u001b[1;32m--> 766\u001b[0m     \u001b[39mreturn\u001b[39;00m \u001b[39mself\u001b[39;49m\u001b[39m.\u001b[39;49m_compile(source, filename)\n\u001b[0;32m    767\u001b[0m \u001b[39mexcept\u001b[39;00m TemplateSyntaxError:\n\u001b[0;32m    768\u001b[0m     \u001b[39mself\u001b[39m\u001b[39m.\u001b[39mhandle_exception(source\u001b[39m=\u001b[39msource_hint)\n",
      "\u001b[1;31mKeyboardInterrupt\u001b[0m: "
     ]
    }
   ],
   "source": [
    "# Display the map\n",
    "m.save('ride_locations.png')  # Save the map to an HTML file"
   ]
  },
  {
   "cell_type": "code",
   "execution_count": null,
   "id": "cd303d9f",
   "metadata": {},
   "outputs": [],
   "source": [
    "import imgkit"
   ]
  },
  {
   "cell_type": "code",
   "execution_count": null,
   "id": "0f98a9cb",
   "metadata": {},
   "outputs": [
    {
     "ename": "OSError",
     "evalue": "\nNo wkhtmltoimage executable found: \"command not found\"\nIf this file exists please check that this process can read it.\nOtherwise please install wkhtmltopdf - http://wkhtmltopdf.org\n\n        ",
     "output_type": "error",
     "traceback": [
      "\u001b[1;31m---------------------------------------------------------------------------\u001b[0m",
      "\u001b[1;31mOSError\u001b[0m                                   Traceback (most recent call last)",
      "\u001b[1;32md:\\GitHub\\NextTrip\\flask_LocationModel\\notebooks\\Maps_Model.ipynb Cell 17\u001b[0m line \u001b[0;36m2\n\u001b[0;32m      <a href='vscode-notebook-cell:/d%3A/GitHub/NextTrip/flask_LocationModel/notebooks/Maps_Model.ipynb#X22sZmlsZQ%3D%3D?line=0'>1</a>\u001b[0m image_filename \u001b[39m=\u001b[39m \u001b[39m'\u001b[39m\u001b[39mride_locations.png\u001b[39m\u001b[39m'\u001b[39m\n\u001b[1;32m----> <a href='vscode-notebook-cell:/d%3A/GitHub/NextTrip/flask_LocationModel/notebooks/Maps_Model.ipynb#X22sZmlsZQ%3D%3D?line=1'>2</a>\u001b[0m imgkit\u001b[39m.\u001b[39;49mfrom_string(m\u001b[39m.\u001b[39;49mget_root()\u001b[39m.\u001b[39;49mrender(), image_filename)\n",
      "File \u001b[1;32md:\\GitHub\\NextTrip\\flask_LocationModel\\env\\lib\\site-packages\\imgkit\\api.py:98\u001b[0m, in \u001b[0;36mfrom_string\u001b[1;34m(string, output_path, options, toc, cover, css, config, cover_first)\u001b[0m\n\u001b[0;32m     75\u001b[0m \u001b[39mdef\u001b[39;00m \u001b[39mfrom_string\u001b[39m(\n\u001b[0;32m     76\u001b[0m     string,\n\u001b[0;32m     77\u001b[0m     output_path,\n\u001b[1;32m   (...)\u001b[0m\n\u001b[0;32m     83\u001b[0m     cover_first\u001b[39m=\u001b[39m\u001b[39mNone\u001b[39;00m,\n\u001b[0;32m     84\u001b[0m ):\n\u001b[0;32m     85\u001b[0m \u001b[39m    \u001b[39m\u001b[39m\"\"\"\u001b[39;00m\n\u001b[0;32m     86\u001b[0m \u001b[39m    Convert given string/strings to IMG file\u001b[39;00m\n\u001b[0;32m     87\u001b[0m \n\u001b[1;32m   (...)\u001b[0m\n\u001b[0;32m     96\u001b[0m \u001b[39m    :return: True when success\u001b[39;00m\n\u001b[0;32m     97\u001b[0m \u001b[39m    \"\"\"\u001b[39;00m\n\u001b[1;32m---> 98\u001b[0m     rtn \u001b[39m=\u001b[39m IMGKit(\n\u001b[0;32m     99\u001b[0m         string,\n\u001b[0;32m    100\u001b[0m         \u001b[39m\"\u001b[39;49m\u001b[39mstring\u001b[39;49m\u001b[39m\"\u001b[39;49m,\n\u001b[0;32m    101\u001b[0m         options\u001b[39m=\u001b[39;49moptions,\n\u001b[0;32m    102\u001b[0m         toc\u001b[39m=\u001b[39;49mtoc,\n\u001b[0;32m    103\u001b[0m         cover\u001b[39m=\u001b[39;49mcover,\n\u001b[0;32m    104\u001b[0m         css\u001b[39m=\u001b[39;49mcss,\n\u001b[0;32m    105\u001b[0m         config\u001b[39m=\u001b[39;49mconfig,\n\u001b[0;32m    106\u001b[0m         cover_first\u001b[39m=\u001b[39;49mcover_first,\n\u001b[0;32m    107\u001b[0m     )\n\u001b[0;32m    108\u001b[0m     \u001b[39mreturn\u001b[39;00m rtn\u001b[39m.\u001b[39mto_img(output_path)\n",
      "File \u001b[1;32md:\\GitHub\\NextTrip\\flask_LocationModel\\env\\lib\\site-packages\\imgkit\\imgkit.py:36\u001b[0m, in \u001b[0;36mIMGKit.__init__\u001b[1;34m(self, url_or_file, source_type, options, config, **kwargs)\u001b[0m\n\u001b[0;32m     34\u001b[0m \u001b[39mself\u001b[39m\u001b[39m.\u001b[39msource \u001b[39m=\u001b[39m Source(url_or_file, source_type)\n\u001b[0;32m     35\u001b[0m \u001b[39mself\u001b[39m\u001b[39m.\u001b[39mconfig \u001b[39m=\u001b[39m Config() \u001b[39mif\u001b[39;00m \u001b[39mnot\u001b[39;00m config \u001b[39melse\u001b[39;00m config\n\u001b[1;32m---> 36\u001b[0m \u001b[39mself\u001b[39m\u001b[39m.\u001b[39mwkhtmltoimage \u001b[39m=\u001b[39m \u001b[39mself\u001b[39;49m\u001b[39m.\u001b[39;49mconfig\u001b[39m.\u001b[39;49mget_wkhtmltoimage()\n\u001b[0;32m     38\u001b[0m \u001b[39mself\u001b[39m\u001b[39m.\u001b[39moptions \u001b[39m=\u001b[39m {}\n\u001b[0;32m     39\u001b[0m \u001b[39mif\u001b[39;00m \u001b[39mself\u001b[39m\u001b[39m.\u001b[39msource\u001b[39m.\u001b[39misString():\n",
      "File \u001b[1;32md:\\GitHub\\NextTrip\\flask_LocationModel\\env\\lib\\site-packages\\imgkit\\config.py:57\u001b[0m, in \u001b[0;36mConfig.get_wkhtmltoimage\u001b[1;34m(self)\u001b[0m\n\u001b[0;32m     55\u001b[0m         raise_from(\u001b[39mOSError\u001b[39;00m(wkhtmltoimage_error), io_error)\n\u001b[0;32m     56\u001b[0m \u001b[39melse\u001b[39;00m:\n\u001b[1;32m---> 57\u001b[0m     \u001b[39mraise\u001b[39;00m \u001b[39mOSError\u001b[39;00m(wkhtmltoimage_error)\n\u001b[0;32m     59\u001b[0m \u001b[39mreturn\u001b[39;00m \u001b[39mself\u001b[39m\u001b[39m.\u001b[39mwkhtmltoimage\n",
      "\u001b[1;31mOSError\u001b[0m: \nNo wkhtmltoimage executable found: \"command not found\"\nIf this file exists please check that this process can read it.\nOtherwise please install wkhtmltopdf - http://wkhtmltopdf.org\n\n        "
     ]
    }
   ],
   "source": [
    "image_filename = 'ride_locations.png'\n",
    "imgkit.from_string(m.get_root().render(), image_filename)"
   ]
  }
 ],
 "metadata": {
  "kernelspec": {
   "display_name": "jupyterenv_nexttrip",
   "language": "python",
   "name": "jupyterenv_nexttrip"
  },
  "language_info": {
   "codemirror_mode": {
    "name": "ipython",
    "version": 3
   },
   "file_extension": ".py",
   "mimetype": "text/x-python",
   "name": "python",
   "nbconvert_exporter": "python",
   "pygments_lexer": "ipython3",
   "version": "3.10.0"
  }
 },
 "nbformat": 4,
 "nbformat_minor": 5
}
